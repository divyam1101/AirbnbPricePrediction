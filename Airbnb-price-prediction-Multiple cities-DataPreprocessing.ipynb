{
 "cells": [
  {
   "cell_type": "markdown",
   "metadata": {},
   "source": [
    "# Cleaning and pre-processing of Airbnb data "
   ]
  },
  {
   "cell_type": "markdown",
   "metadata": {},
   "source": [
    "### Importing the libraries and data"
   ]
  },
  {
   "cell_type": "code",
   "execution_count": 1,
   "metadata": {},
   "outputs": [],
   "source": [
    "from sagemaker import get_execution_role\n",
    "role = get_execution_role()"
   ]
  },
  {
   "cell_type": "code",
   "execution_count": 2,
   "metadata": {},
   "outputs": [
    {
     "name": "stdout",
     "output_type": "stream",
     "text": [
      "/home/ec2-user/anaconda3/envs/amazonei_tensorflow_p36/lib/python3.6/site-packages/secretstorage/dhcrypto.py:16: CryptographyDeprecationWarning: int_from_bytes is deprecated, use int.from_bytes instead\n",
      "  from cryptography.utils import int_from_bytes\n",
      "/home/ec2-user/anaconda3/envs/amazonei_tensorflow_p36/lib/python3.6/site-packages/secretstorage/util.py:25: CryptographyDeprecationWarning: int_from_bytes is deprecated, use int.from_bytes instead\n",
      "  from cryptography.utils import int_from_bytes\n",
      "Collecting geopandas\n",
      "  Downloading geopandas-0.9.0-py2.py3-none-any.whl (994 kB)\n",
      "\u001b[K     |████████████████████████████████| 994 kB 6.8 MB/s eta 0:00:01\n",
      "\u001b[?25hRequirement already satisfied: pandas>=0.24.0 in /home/ec2-user/anaconda3/envs/amazonei_tensorflow_p36/lib/python3.6/site-packages (from geopandas) (1.0.1)\n",
      "Collecting pyproj>=2.2.0\n",
      "  Downloading pyproj-3.0.1-cp36-cp36m-manylinux2010_x86_64.whl (6.5 MB)\n",
      "\u001b[K     |████████████████████████████████| 6.5 MB 21.2 MB/s eta 0:00:01\n",
      "\u001b[?25hCollecting shapely>=1.6\n",
      "  Downloading Shapely-1.7.1-cp36-cp36m-manylinux1_x86_64.whl (1.0 MB)\n",
      "\u001b[K     |████████████████████████████████| 1.0 MB 71.5 MB/s eta 0:00:01\n",
      "\u001b[?25hCollecting fiona>=1.8\n",
      "  Downloading Fiona-1.8.20-cp36-cp36m-manylinux_2_5_x86_64.manylinux1_x86_64.whl (15.4 MB)\n",
      "\u001b[K     |████████████████████████████████| 15.4 MB 73.6 MB/s eta 0:00:01\n",
      "\u001b[?25hCollecting cligj>=0.5\n",
      "  Downloading cligj-0.7.2-py3-none-any.whl (7.1 kB)\n",
      "Requirement already satisfied: six>=1.7 in /home/ec2-user/anaconda3/envs/amazonei_tensorflow_p36/lib/python3.6/site-packages (from fiona>=1.8->geopandas) (1.14.0)\n",
      "Collecting click-plugins>=1.0\n",
      "  Downloading click_plugins-1.1.1-py2.py3-none-any.whl (7.5 kB)\n",
      "Requirement already satisfied: click>=4.0 in /home/ec2-user/anaconda3/envs/amazonei_tensorflow_p36/lib/python3.6/site-packages (from fiona>=1.8->geopandas) (7.0)\n",
      "Collecting munch\n",
      "  Downloading munch-2.5.0-py2.py3-none-any.whl (10 kB)\n",
      "Requirement already satisfied: certifi in /home/ec2-user/anaconda3/envs/amazonei_tensorflow_p36/lib/python3.6/site-packages (from fiona>=1.8->geopandas) (2020.12.5)\n",
      "Requirement already satisfied: attrs>=17 in /home/ec2-user/anaconda3/envs/amazonei_tensorflow_p36/lib/python3.6/site-packages (from fiona>=1.8->geopandas) (19.3.0)\n",
      "Requirement already satisfied: setuptools in /home/ec2-user/anaconda3/envs/amazonei_tensorflow_p36/lib/python3.6/site-packages (from fiona>=1.8->geopandas) (45.2.0.post20200210)\n",
      "Requirement already satisfied: numpy>=1.13.3 in /home/ec2-user/anaconda3/envs/amazonei_tensorflow_p36/lib/python3.6/site-packages (from pandas>=0.24.0->geopandas) (1.18.1)\n",
      "Requirement already satisfied: pytz>=2017.2 in /home/ec2-user/anaconda3/envs/amazonei_tensorflow_p36/lib/python3.6/site-packages (from pandas>=0.24.0->geopandas) (2019.3)\n",
      "Requirement already satisfied: python-dateutil>=2.6.1 in /home/ec2-user/anaconda3/envs/amazonei_tensorflow_p36/lib/python3.6/site-packages (from pandas>=0.24.0->geopandas) (2.8.1)\n",
      "Installing collected packages: munch, cligj, click-plugins, shapely, pyproj, fiona, geopandas\n",
      "Successfully installed click-plugins-1.1.1 cligj-0.7.2 fiona-1.8.20 geopandas-0.9.0 munch-2.5.0 pyproj-3.0.1 shapely-1.7.1\n",
      "/home/ec2-user/anaconda3/envs/amazonei_tensorflow_p36/lib/python3.6/site-packages/secretstorage/dhcrypto.py:16: CryptographyDeprecationWarning: int_from_bytes is deprecated, use int.from_bytes instead\n",
      "  from cryptography.utils import int_from_bytes\n",
      "/home/ec2-user/anaconda3/envs/amazonei_tensorflow_p36/lib/python3.6/site-packages/secretstorage/util.py:25: CryptographyDeprecationWarning: int_from_bytes is deprecated, use int.from_bytes instead\n",
      "  from cryptography.utils import int_from_bytes\n",
      "Collecting xgboost\n",
      "  Downloading xgboost-1.4.2-py3-none-manylinux2010_x86_64.whl (166.7 MB)\n",
      "\u001b[K     |████████████████████████████████| 166.7 MB 23 kB/s s eta 0:00:01   |███▍                            | 17.8 MB 7.8 MB/s eta 0:00:20     |████                            | 21.4 MB 7.8 MB/s eta 0:00:19\n",
      "\u001b[?25hRequirement already satisfied: scipy in /home/ec2-user/anaconda3/envs/amazonei_tensorflow_p36/lib/python3.6/site-packages (from xgboost) (1.4.1)\n",
      "Requirement already satisfied: numpy in /home/ec2-user/anaconda3/envs/amazonei_tensorflow_p36/lib/python3.6/site-packages (from xgboost) (1.18.1)\n",
      "Installing collected packages: xgboost\n",
      "Successfully installed xgboost-1.4.2\n",
      "/home/ec2-user/anaconda3/envs/amazonei_tensorflow_p36/lib/python3.6/site-packages/secretstorage/dhcrypto.py:16: CryptographyDeprecationWarning: int_from_bytes is deprecated, use int.from_bytes instead\n",
      "  from cryptography.utils import int_from_bytes\n",
      "/home/ec2-user/anaconda3/envs/amazonei_tensorflow_p36/lib/python3.6/site-packages/secretstorage/util.py:25: CryptographyDeprecationWarning: int_from_bytes is deprecated, use int.from_bytes instead\n",
      "  from cryptography.utils import int_from_bytes\n",
      "Collecting pydot\n",
      "  Downloading pydot-1.4.2-py2.py3-none-any.whl (21 kB)\n",
      "Requirement already satisfied: pyparsing>=2.1.4 in /home/ec2-user/anaconda3/envs/amazonei_tensorflow_p36/lib/python3.6/site-packages (from pydot) (2.4.6)\n",
      "Installing collected packages: pydot\n",
      "Successfully installed pydot-1.4.2\n"
     ]
    }
   ],
   "source": [
    "!pip install geopandas\n",
    "!pip install xgboost\n",
    "!pip install pydot"
   ]
  },
  {
   "cell_type": "code",
   "execution_count": 3,
   "metadata": {},
   "outputs": [
    {
     "name": "stderr",
     "output_type": "stream",
     "text": [
      "Using TensorFlow backend.\n"
     ]
    }
   ],
   "source": [
    "# Importing required libraries\n",
    "import pandas as pd\n",
    "import numpy as np\n",
    "from numpy.random import seed\n",
    "seed(123)\n",
    "import matplotlib.pyplot as plt\n",
    "%matplotlib inline\n",
    "from datetime import datetime\n",
    "import seaborn as sns\n",
    "import geopandas as gpd\n",
    "from sklearn.preprocessing import StandardScaler, MinMaxScaler\n",
    "from sklearn.model_selection import train_test_split, cross_val_score\n",
    "import xgboost as xgb\n",
    "from xgboost import plot_importance\n",
    "from sklearn.metrics import explained_variance_score, mean_squared_error, r2_score\n",
    "import time\n",
    "from keras import models, layers, optimizers, regularizers\n",
    "from keras.utils.vis_utils import model_to_dot\n",
    "from IPython.display import SVG\n",
    "from statsmodels.tsa.seasonal import seasonal_decompose"
   ]
  },
  {
   "cell_type": "code",
   "execution_count": 4,
   "metadata": {},
   "outputs": [],
   "source": [
    "pd.set_option('display.max_columns',500)\n",
    "pd.set_option('display.max_rows', 100)"
   ]
  },
  {
   "cell_type": "code",
   "execution_count": 5,
   "metadata": {},
   "outputs": [],
   "source": [
    "airbnb_df = pd.read_csv('s3://divyam-personal/divyam/listings_berlin.csv.gz')"
   ]
  },
  {
   "cell_type": "code",
   "execution_count": 6,
   "metadata": {},
   "outputs": [
    {
     "data": {
      "text/plain": [
       "(24462, 106)"
      ]
     },
     "execution_count": 6,
     "metadata": {},
     "output_type": "execute_result"
    }
   ],
   "source": [
    "airbnb_df.shape"
   ]
  },
  {
   "cell_type": "code",
   "execution_count": 7,
   "metadata": {},
   "outputs": [
    {
     "data": {
      "text/html": [
       "<div>\n",
       "<style scoped>\n",
       "    .dataframe tbody tr th:only-of-type {\n",
       "        vertical-align: middle;\n",
       "    }\n",
       "\n",
       "    .dataframe tbody tr th {\n",
       "        vertical-align: top;\n",
       "    }\n",
       "\n",
       "    .dataframe thead th {\n",
       "        text-align: right;\n",
       "    }\n",
       "</style>\n",
       "<table border=\"1\" class=\"dataframe\">\n",
       "  <thead>\n",
       "    <tr style=\"text-align: right;\">\n",
       "      <th></th>\n",
       "      <th>id</th>\n",
       "      <th>listing_url</th>\n",
       "      <th>scrape_id</th>\n",
       "      <th>last_scraped</th>\n",
       "      <th>name</th>\n",
       "      <th>summary</th>\n",
       "      <th>space</th>\n",
       "      <th>description</th>\n",
       "      <th>experiences_offered</th>\n",
       "      <th>neighborhood_overview</th>\n",
       "      <th>notes</th>\n",
       "      <th>transit</th>\n",
       "      <th>access</th>\n",
       "      <th>interaction</th>\n",
       "      <th>house_rules</th>\n",
       "      <th>thumbnail_url</th>\n",
       "      <th>medium_url</th>\n",
       "      <th>picture_url</th>\n",
       "      <th>xl_picture_url</th>\n",
       "      <th>host_id</th>\n",
       "      <th>host_url</th>\n",
       "      <th>host_name</th>\n",
       "      <th>host_since</th>\n",
       "      <th>host_location</th>\n",
       "      <th>host_about</th>\n",
       "      <th>host_response_time</th>\n",
       "      <th>host_response_rate</th>\n",
       "      <th>host_acceptance_rate</th>\n",
       "      <th>host_is_superhost</th>\n",
       "      <th>host_thumbnail_url</th>\n",
       "      <th>host_picture_url</th>\n",
       "      <th>host_neighbourhood</th>\n",
       "      <th>host_listings_count</th>\n",
       "      <th>host_total_listings_count</th>\n",
       "      <th>host_verifications</th>\n",
       "      <th>host_has_profile_pic</th>\n",
       "      <th>host_identity_verified</th>\n",
       "      <th>street</th>\n",
       "      <th>neighbourhood</th>\n",
       "      <th>neighbourhood_cleansed</th>\n",
       "      <th>neighbourhood_group_cleansed</th>\n",
       "      <th>city</th>\n",
       "      <th>state</th>\n",
       "      <th>zipcode</th>\n",
       "      <th>market</th>\n",
       "      <th>smart_location</th>\n",
       "      <th>country_code</th>\n",
       "      <th>country</th>\n",
       "      <th>latitude</th>\n",
       "      <th>longitude</th>\n",
       "      <th>is_location_exact</th>\n",
       "      <th>property_type</th>\n",
       "      <th>room_type</th>\n",
       "      <th>accommodates</th>\n",
       "      <th>bathrooms</th>\n",
       "      <th>bedrooms</th>\n",
       "      <th>beds</th>\n",
       "      <th>bed_type</th>\n",
       "      <th>amenities</th>\n",
       "      <th>square_feet</th>\n",
       "      <th>price</th>\n",
       "      <th>weekly_price</th>\n",
       "      <th>monthly_price</th>\n",
       "      <th>security_deposit</th>\n",
       "      <th>cleaning_fee</th>\n",
       "      <th>guests_included</th>\n",
       "      <th>extra_people</th>\n",
       "      <th>minimum_nights</th>\n",
       "      <th>maximum_nights</th>\n",
       "      <th>minimum_minimum_nights</th>\n",
       "      <th>maximum_minimum_nights</th>\n",
       "      <th>minimum_maximum_nights</th>\n",
       "      <th>maximum_maximum_nights</th>\n",
       "      <th>minimum_nights_avg_ntm</th>\n",
       "      <th>maximum_nights_avg_ntm</th>\n",
       "      <th>calendar_updated</th>\n",
       "      <th>has_availability</th>\n",
       "      <th>availability_30</th>\n",
       "      <th>availability_60</th>\n",
       "      <th>availability_90</th>\n",
       "      <th>availability_365</th>\n",
       "      <th>calendar_last_scraped</th>\n",
       "      <th>number_of_reviews</th>\n",
       "      <th>number_of_reviews_ltm</th>\n",
       "      <th>first_review</th>\n",
       "      <th>last_review</th>\n",
       "      <th>review_scores_rating</th>\n",
       "      <th>review_scores_accuracy</th>\n",
       "      <th>review_scores_cleanliness</th>\n",
       "      <th>review_scores_checkin</th>\n",
       "      <th>review_scores_communication</th>\n",
       "      <th>review_scores_location</th>\n",
       "      <th>review_scores_value</th>\n",
       "      <th>requires_license</th>\n",
       "      <th>license</th>\n",
       "      <th>jurisdiction_names</th>\n",
       "      <th>instant_bookable</th>\n",
       "      <th>is_business_travel_ready</th>\n",
       "      <th>cancellation_policy</th>\n",
       "      <th>require_guest_profile_picture</th>\n",
       "      <th>require_guest_phone_verification</th>\n",
       "      <th>calculated_host_listings_count</th>\n",
       "      <th>calculated_host_listings_count_entire_homes</th>\n",
       "      <th>calculated_host_listings_count_private_rooms</th>\n",
       "      <th>calculated_host_listings_count_shared_rooms</th>\n",
       "      <th>reviews_per_month</th>\n",
       "    </tr>\n",
       "  </thead>\n",
       "  <tbody>\n",
       "    <tr>\n",
       "      <th>count</th>\n",
       "      <td>2.446200e+04</td>\n",
       "      <td>24462</td>\n",
       "      <td>2.446200e+04</td>\n",
       "      <td>24462</td>\n",
       "      <td>24411</td>\n",
       "      <td>23261</td>\n",
       "      <td>15928</td>\n",
       "      <td>24054</td>\n",
       "      <td>24462</td>\n",
       "      <td>13626</td>\n",
       "      <td>7898</td>\n",
       "      <td>15007</td>\n",
       "      <td>11337</td>\n",
       "      <td>12209</td>\n",
       "      <td>12415</td>\n",
       "      <td>0.0</td>\n",
       "      <td>0.0</td>\n",
       "      <td>24462</td>\n",
       "      <td>0.0</td>\n",
       "      <td>2.446200e+04</td>\n",
       "      <td>24462</td>\n",
       "      <td>24422</td>\n",
       "      <td>24422</td>\n",
       "      <td>24334</td>\n",
       "      <td>12086</td>\n",
       "      <td>13852</td>\n",
       "      <td>13852</td>\n",
       "      <td>0.0</td>\n",
       "      <td>24422</td>\n",
       "      <td>24422</td>\n",
       "      <td>24422</td>\n",
       "      <td>19197</td>\n",
       "      <td>24422.000000</td>\n",
       "      <td>24422.000000</td>\n",
       "      <td>24462</td>\n",
       "      <td>24422</td>\n",
       "      <td>24422</td>\n",
       "      <td>24462</td>\n",
       "      <td>24462</td>\n",
       "      <td>24462</td>\n",
       "      <td>24462</td>\n",
       "      <td>24453</td>\n",
       "      <td>24327</td>\n",
       "      <td>23915</td>\n",
       "      <td>24402</td>\n",
       "      <td>24462</td>\n",
       "      <td>24462</td>\n",
       "      <td>24462</td>\n",
       "      <td>24462.000000</td>\n",
       "      <td>24462.000000</td>\n",
       "      <td>24462</td>\n",
       "      <td>24462</td>\n",
       "      <td>24462</td>\n",
       "      <td>24462.000000</td>\n",
       "      <td>24438.000000</td>\n",
       "      <td>24438.000000</td>\n",
       "      <td>24435.000000</td>\n",
       "      <td>24462</td>\n",
       "      <td>24462</td>\n",
       "      <td>432.000000</td>\n",
       "      <td>24462</td>\n",
       "      <td>3196</td>\n",
       "      <td>2303</td>\n",
       "      <td>14964</td>\n",
       "      <td>17295</td>\n",
       "      <td>24462.000000</td>\n",
       "      <td>24462</td>\n",
       "      <td>24462.000000</td>\n",
       "      <td>24462.000000</td>\n",
       "      <td>24462.000000</td>\n",
       "      <td>24462.000000</td>\n",
       "      <td>24462.000000</td>\n",
       "      <td>24462.000000</td>\n",
       "      <td>24462.000000</td>\n",
       "      <td>24462.000000</td>\n",
       "      <td>24462</td>\n",
       "      <td>24462</td>\n",
       "      <td>24462.000000</td>\n",
       "      <td>24462.000000</td>\n",
       "      <td>24462.000000</td>\n",
       "      <td>24462.000000</td>\n",
       "      <td>24462</td>\n",
       "      <td>24462.000000</td>\n",
       "      <td>24462.000000</td>\n",
       "      <td>20420</td>\n",
       "      <td>20420</td>\n",
       "      <td>19952.000000</td>\n",
       "      <td>19927.000000</td>\n",
       "      <td>19930.000000</td>\n",
       "      <td>19909.000000</td>\n",
       "      <td>19926.000000</td>\n",
       "      <td>19910.000000</td>\n",
       "      <td>19907.000000</td>\n",
       "      <td>24462</td>\n",
       "      <td>2550</td>\n",
       "      <td>0.0</td>\n",
       "      <td>24462</td>\n",
       "      <td>24462</td>\n",
       "      <td>24462</td>\n",
       "      <td>24462</td>\n",
       "      <td>24462</td>\n",
       "      <td>24462.000000</td>\n",
       "      <td>24462.000000</td>\n",
       "      <td>24462.000000</td>\n",
       "      <td>24462.000000</td>\n",
       "      <td>20420.000000</td>\n",
       "    </tr>\n",
       "    <tr>\n",
       "      <th>unique</th>\n",
       "      <td>NaN</td>\n",
       "      <td>24462</td>\n",
       "      <td>NaN</td>\n",
       "      <td>2</td>\n",
       "      <td>23757</td>\n",
       "      <td>22494</td>\n",
       "      <td>15260</td>\n",
       "      <td>23568</td>\n",
       "      <td>1</td>\n",
       "      <td>12526</td>\n",
       "      <td>7150</td>\n",
       "      <td>13998</td>\n",
       "      <td>10230</td>\n",
       "      <td>11048</td>\n",
       "      <td>11002</td>\n",
       "      <td>NaN</td>\n",
       "      <td>NaN</td>\n",
       "      <td>24209</td>\n",
       "      <td>NaN</td>\n",
       "      <td>NaN</td>\n",
       "      <td>20427</td>\n",
       "      <td>6406</td>\n",
       "      <td>3243</td>\n",
       "      <td>1077</td>\n",
       "      <td>9378</td>\n",
       "      <td>4</td>\n",
       "      <td>70</td>\n",
       "      <td>NaN</td>\n",
       "      <td>2</td>\n",
       "      <td>20324</td>\n",
       "      <td>20324</td>\n",
       "      <td>189</td>\n",
       "      <td>NaN</td>\n",
       "      <td>NaN</td>\n",
       "      <td>330</td>\n",
       "      <td>2</td>\n",
       "      <td>2</td>\n",
       "      <td>97</td>\n",
       "      <td>93</td>\n",
       "      <td>138</td>\n",
       "      <td>12</td>\n",
       "      <td>64</td>\n",
       "      <td>30</td>\n",
       "      <td>212</td>\n",
       "      <td>6</td>\n",
       "      <td>67</td>\n",
       "      <td>3</td>\n",
       "      <td>3</td>\n",
       "      <td>NaN</td>\n",
       "      <td>NaN</td>\n",
       "      <td>2</td>\n",
       "      <td>33</td>\n",
       "      <td>4</td>\n",
       "      <td>NaN</td>\n",
       "      <td>NaN</td>\n",
       "      <td>NaN</td>\n",
       "      <td>NaN</td>\n",
       "      <td>5</td>\n",
       "      <td>21776</td>\n",
       "      <td>NaN</td>\n",
       "      <td>335</td>\n",
       "      <td>371</td>\n",
       "      <td>395</td>\n",
       "      <td>162</td>\n",
       "      <td>124</td>\n",
       "      <td>NaN</td>\n",
       "      <td>68</td>\n",
       "      <td>NaN</td>\n",
       "      <td>NaN</td>\n",
       "      <td>NaN</td>\n",
       "      <td>NaN</td>\n",
       "      <td>NaN</td>\n",
       "      <td>NaN</td>\n",
       "      <td>NaN</td>\n",
       "      <td>NaN</td>\n",
       "      <td>85</td>\n",
       "      <td>1</td>\n",
       "      <td>NaN</td>\n",
       "      <td>NaN</td>\n",
       "      <td>NaN</td>\n",
       "      <td>NaN</td>\n",
       "      <td>2</td>\n",
       "      <td>NaN</td>\n",
       "      <td>NaN</td>\n",
       "      <td>2519</td>\n",
       "      <td>1598</td>\n",
       "      <td>NaN</td>\n",
       "      <td>NaN</td>\n",
       "      <td>NaN</td>\n",
       "      <td>NaN</td>\n",
       "      <td>NaN</td>\n",
       "      <td>NaN</td>\n",
       "      <td>NaN</td>\n",
       "      <td>2</td>\n",
       "      <td>2145</td>\n",
       "      <td>NaN</td>\n",
       "      <td>2</td>\n",
       "      <td>1</td>\n",
       "      <td>6</td>\n",
       "      <td>2</td>\n",
       "      <td>2</td>\n",
       "      <td>NaN</td>\n",
       "      <td>NaN</td>\n",
       "      <td>NaN</td>\n",
       "      <td>NaN</td>\n",
       "      <td>NaN</td>\n",
       "    </tr>\n",
       "    <tr>\n",
       "      <th>top</th>\n",
       "      <td>NaN</td>\n",
       "      <td>https://www.airbnb.com/rooms/5448528</td>\n",
       "      <td>NaN</td>\n",
       "      <td>2019-10-17</td>\n",
       "      <td>Cozy room in Berlin</td>\n",
       "      <td>with en-suite bathroom, TV, WIFI, bed linen, a...</td>\n",
       "      <td>The Singer 109 Hostel is located in the heart ...</td>\n",
       "      <td>with en-suite bathroom, TV, WIFI, bed linen, a...</td>\n",
       "      <td>none</td>\n",
       "      <td>Welcome Traveler. The Singer Hostel and  Apart...</td>\n",
       "      <td>Since 01.01.2014 the city of Berlin had to ado...</td>\n",
       "      <td>U-Bahn / Underground /Subway / Metro: U5 (Stra...</td>\n",
       "      <td>Die Rezeption ist von 9Uhr bis 21Uhr besetzt. ...</td>\n",
       "      <td>Since I’ll be traveling myself during your sta...</td>\n",
       "      <td>- Most importantly, please have a respectful a...</td>\n",
       "      <td>NaN</td>\n",
       "      <td>NaN</td>\n",
       "      <td>https://a0.muscache.com/im/pictures/f5c74865-b...</td>\n",
       "      <td>NaN</td>\n",
       "      <td>NaN</td>\n",
       "      <td>https://www.airbnb.com/users/show/1625771</td>\n",
       "      <td>Anna</td>\n",
       "      <td>2017-02-20</td>\n",
       "      <td>Berlin, Berlin, Germany</td>\n",
       "      <td>.</td>\n",
       "      <td>within an hour</td>\n",
       "      <td>100%</td>\n",
       "      <td>NaN</td>\n",
       "      <td>f</td>\n",
       "      <td>https://a0.muscache.com/defaults/user_pic-50x5...</td>\n",
       "      <td>https://a0.muscache.com/defaults/user_pic-225x...</td>\n",
       "      <td>Neukölln</td>\n",
       "      <td>NaN</td>\n",
       "      <td>NaN</td>\n",
       "      <td>['email', 'phone', 'reviews']</td>\n",
       "      <td>t</td>\n",
       "      <td>f</td>\n",
       "      <td>Berlin, Berlin, Germany</td>\n",
       "      <td>Neukölln</td>\n",
       "      <td>Frankfurter Allee Süd FK</td>\n",
       "      <td>Friedrichshain-Kreuzberg</td>\n",
       "      <td>Berlin</td>\n",
       "      <td>Berlin</td>\n",
       "      <td>10245</td>\n",
       "      <td>Berlin</td>\n",
       "      <td>Berlin, Germany</td>\n",
       "      <td>DE</td>\n",
       "      <td>Germany</td>\n",
       "      <td>NaN</td>\n",
       "      <td>NaN</td>\n",
       "      <td>t</td>\n",
       "      <td>Apartment</td>\n",
       "      <td>Entire home/apt</td>\n",
       "      <td>NaN</td>\n",
       "      <td>NaN</td>\n",
       "      <td>NaN</td>\n",
       "      <td>NaN</td>\n",
       "      <td>Real Bed</td>\n",
       "      <td>{}</td>\n",
       "      <td>NaN</td>\n",
       "      <td>$50.00</td>\n",
       "      <td>$300.00</td>\n",
       "      <td>$1,200.00</td>\n",
       "      <td>$0.00</td>\n",
       "      <td>$0.00</td>\n",
       "      <td>NaN</td>\n",
       "      <td>$0.00</td>\n",
       "      <td>NaN</td>\n",
       "      <td>NaN</td>\n",
       "      <td>NaN</td>\n",
       "      <td>NaN</td>\n",
       "      <td>NaN</td>\n",
       "      <td>NaN</td>\n",
       "      <td>NaN</td>\n",
       "      <td>NaN</td>\n",
       "      <td>today</td>\n",
       "      <td>t</td>\n",
       "      <td>NaN</td>\n",
       "      <td>NaN</td>\n",
       "      <td>NaN</td>\n",
       "      <td>NaN</td>\n",
       "      <td>2019-10-17</td>\n",
       "      <td>NaN</td>\n",
       "      <td>NaN</td>\n",
       "      <td>2017-05-28</td>\n",
       "      <td>2019-09-30</td>\n",
       "      <td>NaN</td>\n",
       "      <td>NaN</td>\n",
       "      <td>NaN</td>\n",
       "      <td>NaN</td>\n",
       "      <td>NaN</td>\n",
       "      <td>NaN</td>\n",
       "      <td>NaN</td>\n",
       "      <td>t</td>\n",
       "      <td>HRB155306B</td>\n",
       "      <td>NaN</td>\n",
       "      <td>f</td>\n",
       "      <td>f</td>\n",
       "      <td>flexible</td>\n",
       "      <td>f</td>\n",
       "      <td>f</td>\n",
       "      <td>NaN</td>\n",
       "      <td>NaN</td>\n",
       "      <td>NaN</td>\n",
       "      <td>NaN</td>\n",
       "      <td>NaN</td>\n",
       "    </tr>\n",
       "    <tr>\n",
       "      <th>freq</th>\n",
       "      <td>NaN</td>\n",
       "      <td>1</td>\n",
       "      <td>NaN</td>\n",
       "      <td>19198</td>\n",
       "      <td>8</td>\n",
       "      <td>15</td>\n",
       "      <td>45</td>\n",
       "      <td>10</td>\n",
       "      <td>24462</td>\n",
       "      <td>49</td>\n",
       "      <td>43</td>\n",
       "      <td>29</td>\n",
       "      <td>27</td>\n",
       "      <td>78</td>\n",
       "      <td>35</td>\n",
       "      <td>NaN</td>\n",
       "      <td>NaN</td>\n",
       "      <td>10</td>\n",
       "      <td>NaN</td>\n",
       "      <td>NaN</td>\n",
       "      <td>55</td>\n",
       "      <td>198</td>\n",
       "      <td>64</td>\n",
       "      <td>18512</td>\n",
       "      <td>69</td>\n",
       "      <td>7512</td>\n",
       "      <td>9743</td>\n",
       "      <td>NaN</td>\n",
       "      <td>20389</td>\n",
       "      <td>69</td>\n",
       "      <td>69</td>\n",
       "      <td>2703</td>\n",
       "      <td>NaN</td>\n",
       "      <td>NaN</td>\n",
       "      <td>3262</td>\n",
       "      <td>24353</td>\n",
       "      <td>15809</td>\n",
       "      <td>24154</td>\n",
       "      <td>3537</td>\n",
       "      <td>1440</td>\n",
       "      <td>5873</td>\n",
       "      <td>24306</td>\n",
       "      <td>24254</td>\n",
       "      <td>980</td>\n",
       "      <td>24392</td>\n",
       "      <td>24308</td>\n",
       "      <td>24460</td>\n",
       "      <td>24460</td>\n",
       "      <td>NaN</td>\n",
       "      <td>NaN</td>\n",
       "      <td>18258</td>\n",
       "      <td>21690</td>\n",
       "      <td>12239</td>\n",
       "      <td>NaN</td>\n",
       "      <td>NaN</td>\n",
       "      <td>NaN</td>\n",
       "      <td>NaN</td>\n",
       "      <td>23778</td>\n",
       "      <td>62</td>\n",
       "      <td>NaN</td>\n",
       "      <td>1397</td>\n",
       "      <td>199</td>\n",
       "      <td>131</td>\n",
       "      <td>6819</td>\n",
       "      <td>2364</td>\n",
       "      <td>NaN</td>\n",
       "      <td>11966</td>\n",
       "      <td>NaN</td>\n",
       "      <td>NaN</td>\n",
       "      <td>NaN</td>\n",
       "      <td>NaN</td>\n",
       "      <td>NaN</td>\n",
       "      <td>NaN</td>\n",
       "      <td>NaN</td>\n",
       "      <td>NaN</td>\n",
       "      <td>1742</td>\n",
       "      <td>24462</td>\n",
       "      <td>NaN</td>\n",
       "      <td>NaN</td>\n",
       "      <td>NaN</td>\n",
       "      <td>NaN</td>\n",
       "      <td>19197</td>\n",
       "      <td>NaN</td>\n",
       "      <td>NaN</td>\n",
       "      <td>98</td>\n",
       "      <td>789</td>\n",
       "      <td>NaN</td>\n",
       "      <td>NaN</td>\n",
       "      <td>NaN</td>\n",
       "      <td>NaN</td>\n",
       "      <td>NaN</td>\n",
       "      <td>NaN</td>\n",
       "      <td>NaN</td>\n",
       "      <td>24447</td>\n",
       "      <td>37</td>\n",
       "      <td>NaN</td>\n",
       "      <td>15960</td>\n",
       "      <td>24462</td>\n",
       "      <td>9629</td>\n",
       "      <td>24297</td>\n",
       "      <td>24184</td>\n",
       "      <td>NaN</td>\n",
       "      <td>NaN</td>\n",
       "      <td>NaN</td>\n",
       "      <td>NaN</td>\n",
       "      <td>NaN</td>\n",
       "    </tr>\n",
       "    <tr>\n",
       "      <th>mean</th>\n",
       "      <td>1.995163e+07</td>\n",
       "      <td>NaN</td>\n",
       "      <td>2.019102e+13</td>\n",
       "      <td>NaN</td>\n",
       "      <td>NaN</td>\n",
       "      <td>NaN</td>\n",
       "      <td>NaN</td>\n",
       "      <td>NaN</td>\n",
       "      <td>NaN</td>\n",
       "      <td>NaN</td>\n",
       "      <td>NaN</td>\n",
       "      <td>NaN</td>\n",
       "      <td>NaN</td>\n",
       "      <td>NaN</td>\n",
       "      <td>NaN</td>\n",
       "      <td>NaN</td>\n",
       "      <td>NaN</td>\n",
       "      <td>NaN</td>\n",
       "      <td>NaN</td>\n",
       "      <td>7.063975e+07</td>\n",
       "      <td>NaN</td>\n",
       "      <td>NaN</td>\n",
       "      <td>NaN</td>\n",
       "      <td>NaN</td>\n",
       "      <td>NaN</td>\n",
       "      <td>NaN</td>\n",
       "      <td>NaN</td>\n",
       "      <td>NaN</td>\n",
       "      <td>NaN</td>\n",
       "      <td>NaN</td>\n",
       "      <td>NaN</td>\n",
       "      <td>NaN</td>\n",
       "      <td>3.415936</td>\n",
       "      <td>3.415936</td>\n",
       "      <td>NaN</td>\n",
       "      <td>NaN</td>\n",
       "      <td>NaN</td>\n",
       "      <td>NaN</td>\n",
       "      <td>NaN</td>\n",
       "      <td>NaN</td>\n",
       "      <td>NaN</td>\n",
       "      <td>NaN</td>\n",
       "      <td>NaN</td>\n",
       "      <td>NaN</td>\n",
       "      <td>NaN</td>\n",
       "      <td>NaN</td>\n",
       "      <td>NaN</td>\n",
       "      <td>NaN</td>\n",
       "      <td>52.509940</td>\n",
       "      <td>13.405854</td>\n",
       "      <td>NaN</td>\n",
       "      <td>NaN</td>\n",
       "      <td>NaN</td>\n",
       "      <td>2.678685</td>\n",
       "      <td>1.101420</td>\n",
       "      <td>1.161142</td>\n",
       "      <td>1.621117</td>\n",
       "      <td>NaN</td>\n",
       "      <td>NaN</td>\n",
       "      <td>487.354167</td>\n",
       "      <td>NaN</td>\n",
       "      <td>NaN</td>\n",
       "      <td>NaN</td>\n",
       "      <td>NaN</td>\n",
       "      <td>NaN</td>\n",
       "      <td>1.365138</td>\n",
       "      <td>NaN</td>\n",
       "      <td>7.108781</td>\n",
       "      <td>601.939825</td>\n",
       "      <td>7.000123</td>\n",
       "      <td>7.464476</td>\n",
       "      <td>604.416932</td>\n",
       "      <td>608.123661</td>\n",
       "      <td>7.188697</td>\n",
       "      <td>606.832087</td>\n",
       "      <td>NaN</td>\n",
       "      <td>NaN</td>\n",
       "      <td>4.316041</td>\n",
       "      <td>11.057518</td>\n",
       "      <td>18.552490</td>\n",
       "      <td>73.447183</td>\n",
       "      <td>NaN</td>\n",
       "      <td>20.988758</td>\n",
       "      <td>7.784605</td>\n",
       "      <td>NaN</td>\n",
       "      <td>NaN</td>\n",
       "      <td>94.646752</td>\n",
       "      <td>9.686355</td>\n",
       "      <td>9.333869</td>\n",
       "      <td>9.732834</td>\n",
       "      <td>9.748018</td>\n",
       "      <td>9.588649</td>\n",
       "      <td>9.414226</td>\n",
       "      <td>NaN</td>\n",
       "      <td>NaN</td>\n",
       "      <td>NaN</td>\n",
       "      <td>NaN</td>\n",
       "      <td>NaN</td>\n",
       "      <td>NaN</td>\n",
       "      <td>NaN</td>\n",
       "      <td>NaN</td>\n",
       "      <td>2.227046</td>\n",
       "      <td>1.270133</td>\n",
       "      <td>0.705175</td>\n",
       "      <td>0.133922</td>\n",
       "      <td>1.131033</td>\n",
       "    </tr>\n",
       "    <tr>\n",
       "      <th>std</th>\n",
       "      <td>1.131304e+07</td>\n",
       "      <td>NaN</td>\n",
       "      <td>1.234400e+01</td>\n",
       "      <td>NaN</td>\n",
       "      <td>NaN</td>\n",
       "      <td>NaN</td>\n",
       "      <td>NaN</td>\n",
       "      <td>NaN</td>\n",
       "      <td>NaN</td>\n",
       "      <td>NaN</td>\n",
       "      <td>NaN</td>\n",
       "      <td>NaN</td>\n",
       "      <td>NaN</td>\n",
       "      <td>NaN</td>\n",
       "      <td>NaN</td>\n",
       "      <td>NaN</td>\n",
       "      <td>NaN</td>\n",
       "      <td>NaN</td>\n",
       "      <td>NaN</td>\n",
       "      <td>7.897843e+07</td>\n",
       "      <td>NaN</td>\n",
       "      <td>NaN</td>\n",
       "      <td>NaN</td>\n",
       "      <td>NaN</td>\n",
       "      <td>NaN</td>\n",
       "      <td>NaN</td>\n",
       "      <td>NaN</td>\n",
       "      <td>NaN</td>\n",
       "      <td>NaN</td>\n",
       "      <td>NaN</td>\n",
       "      <td>NaN</td>\n",
       "      <td>NaN</td>\n",
       "      <td>31.813198</td>\n",
       "      <td>31.813198</td>\n",
       "      <td>NaN</td>\n",
       "      <td>NaN</td>\n",
       "      <td>NaN</td>\n",
       "      <td>NaN</td>\n",
       "      <td>NaN</td>\n",
       "      <td>NaN</td>\n",
       "      <td>NaN</td>\n",
       "      <td>NaN</td>\n",
       "      <td>NaN</td>\n",
       "      <td>NaN</td>\n",
       "      <td>NaN</td>\n",
       "      <td>NaN</td>\n",
       "      <td>NaN</td>\n",
       "      <td>NaN</td>\n",
       "      <td>0.031449</td>\n",
       "      <td>0.059649</td>\n",
       "      <td>NaN</td>\n",
       "      <td>NaN</td>\n",
       "      <td>NaN</td>\n",
       "      <td>1.571074</td>\n",
       "      <td>0.350166</td>\n",
       "      <td>0.671027</td>\n",
       "      <td>1.219476</td>\n",
       "      <td>NaN</td>\n",
       "      <td>NaN</td>\n",
       "      <td>512.294504</td>\n",
       "      <td>NaN</td>\n",
       "      <td>NaN</td>\n",
       "      <td>NaN</td>\n",
       "      <td>NaN</td>\n",
       "      <td>NaN</td>\n",
       "      <td>1.550541</td>\n",
       "      <td>NaN</td>\n",
       "      <td>25.957602</td>\n",
       "      <td>637.954599</td>\n",
       "      <td>25.893069</td>\n",
       "      <td>26.149284</td>\n",
       "      <td>660.078957</td>\n",
       "      <td>673.384734</td>\n",
       "      <td>25.973666</td>\n",
       "      <td>673.176270</td>\n",
       "      <td>NaN</td>\n",
       "      <td>NaN</td>\n",
       "      <td>7.738135</td>\n",
       "      <td>17.902525</td>\n",
       "      <td>27.709677</td>\n",
       "      <td>115.630966</td>\n",
       "      <td>NaN</td>\n",
       "      <td>43.892533</td>\n",
       "      <td>15.627282</td>\n",
       "      <td>NaN</td>\n",
       "      <td>NaN</td>\n",
       "      <td>7.548013</td>\n",
       "      <td>0.731001</td>\n",
       "      <td>1.026529</td>\n",
       "      <td>0.684803</td>\n",
       "      <td>0.679575</td>\n",
       "      <td>0.723070</td>\n",
       "      <td>0.837203</td>\n",
       "      <td>NaN</td>\n",
       "      <td>NaN</td>\n",
       "      <td>NaN</td>\n",
       "      <td>NaN</td>\n",
       "      <td>NaN</td>\n",
       "      <td>NaN</td>\n",
       "      <td>NaN</td>\n",
       "      <td>NaN</td>\n",
       "      <td>4.729911</td>\n",
       "      <td>3.916157</td>\n",
       "      <td>1.071610</td>\n",
       "      <td>2.105660</td>\n",
       "      <td>1.561775</td>\n",
       "    </tr>\n",
       "    <tr>\n",
       "      <th>min</th>\n",
       "      <td>1.944000e+03</td>\n",
       "      <td>NaN</td>\n",
       "      <td>2.019102e+13</td>\n",
       "      <td>NaN</td>\n",
       "      <td>NaN</td>\n",
       "      <td>NaN</td>\n",
       "      <td>NaN</td>\n",
       "      <td>NaN</td>\n",
       "      <td>NaN</td>\n",
       "      <td>NaN</td>\n",
       "      <td>NaN</td>\n",
       "      <td>NaN</td>\n",
       "      <td>NaN</td>\n",
       "      <td>NaN</td>\n",
       "      <td>NaN</td>\n",
       "      <td>NaN</td>\n",
       "      <td>NaN</td>\n",
       "      <td>NaN</td>\n",
       "      <td>NaN</td>\n",
       "      <td>2.058000e+03</td>\n",
       "      <td>NaN</td>\n",
       "      <td>NaN</td>\n",
       "      <td>NaN</td>\n",
       "      <td>NaN</td>\n",
       "      <td>NaN</td>\n",
       "      <td>NaN</td>\n",
       "      <td>NaN</td>\n",
       "      <td>NaN</td>\n",
       "      <td>NaN</td>\n",
       "      <td>NaN</td>\n",
       "      <td>NaN</td>\n",
       "      <td>NaN</td>\n",
       "      <td>0.000000</td>\n",
       "      <td>0.000000</td>\n",
       "      <td>NaN</td>\n",
       "      <td>NaN</td>\n",
       "      <td>NaN</td>\n",
       "      <td>NaN</td>\n",
       "      <td>NaN</td>\n",
       "      <td>NaN</td>\n",
       "      <td>NaN</td>\n",
       "      <td>NaN</td>\n",
       "      <td>NaN</td>\n",
       "      <td>NaN</td>\n",
       "      <td>NaN</td>\n",
       "      <td>NaN</td>\n",
       "      <td>NaN</td>\n",
       "      <td>NaN</td>\n",
       "      <td>52.345800</td>\n",
       "      <td>13.097180</td>\n",
       "      <td>NaN</td>\n",
       "      <td>NaN</td>\n",
       "      <td>NaN</td>\n",
       "      <td>1.000000</td>\n",
       "      <td>0.000000</td>\n",
       "      <td>0.000000</td>\n",
       "      <td>0.000000</td>\n",
       "      <td>NaN</td>\n",
       "      <td>NaN</td>\n",
       "      <td>0.000000</td>\n",
       "      <td>NaN</td>\n",
       "      <td>NaN</td>\n",
       "      <td>NaN</td>\n",
       "      <td>NaN</td>\n",
       "      <td>NaN</td>\n",
       "      <td>1.000000</td>\n",
       "      <td>NaN</td>\n",
       "      <td>1.000000</td>\n",
       "      <td>1.000000</td>\n",
       "      <td>1.000000</td>\n",
       "      <td>1.000000</td>\n",
       "      <td>1.000000</td>\n",
       "      <td>1.000000</td>\n",
       "      <td>1.000000</td>\n",
       "      <td>1.000000</td>\n",
       "      <td>NaN</td>\n",
       "      <td>NaN</td>\n",
       "      <td>0.000000</td>\n",
       "      <td>0.000000</td>\n",
       "      <td>0.000000</td>\n",
       "      <td>0.000000</td>\n",
       "      <td>NaN</td>\n",
       "      <td>0.000000</td>\n",
       "      <td>0.000000</td>\n",
       "      <td>NaN</td>\n",
       "      <td>NaN</td>\n",
       "      <td>20.000000</td>\n",
       "      <td>2.000000</td>\n",
       "      <td>2.000000</td>\n",
       "      <td>2.000000</td>\n",
       "      <td>2.000000</td>\n",
       "      <td>2.000000</td>\n",
       "      <td>2.000000</td>\n",
       "      <td>NaN</td>\n",
       "      <td>NaN</td>\n",
       "      <td>NaN</td>\n",
       "      <td>NaN</td>\n",
       "      <td>NaN</td>\n",
       "      <td>NaN</td>\n",
       "      <td>NaN</td>\n",
       "      <td>NaN</td>\n",
       "      <td>1.000000</td>\n",
       "      <td>0.000000</td>\n",
       "      <td>0.000000</td>\n",
       "      <td>0.000000</td>\n",
       "      <td>0.010000</td>\n",
       "    </tr>\n",
       "    <tr>\n",
       "      <th>25%</th>\n",
       "      <td>1.003198e+07</td>\n",
       "      <td>NaN</td>\n",
       "      <td>2.019102e+13</td>\n",
       "      <td>NaN</td>\n",
       "      <td>NaN</td>\n",
       "      <td>NaN</td>\n",
       "      <td>NaN</td>\n",
       "      <td>NaN</td>\n",
       "      <td>NaN</td>\n",
       "      <td>NaN</td>\n",
       "      <td>NaN</td>\n",
       "      <td>NaN</td>\n",
       "      <td>NaN</td>\n",
       "      <td>NaN</td>\n",
       "      <td>NaN</td>\n",
       "      <td>NaN</td>\n",
       "      <td>NaN</td>\n",
       "      <td>NaN</td>\n",
       "      <td>NaN</td>\n",
       "      <td>1.060749e+07</td>\n",
       "      <td>NaN</td>\n",
       "      <td>NaN</td>\n",
       "      <td>NaN</td>\n",
       "      <td>NaN</td>\n",
       "      <td>NaN</td>\n",
       "      <td>NaN</td>\n",
       "      <td>NaN</td>\n",
       "      <td>NaN</td>\n",
       "      <td>NaN</td>\n",
       "      <td>NaN</td>\n",
       "      <td>NaN</td>\n",
       "      <td>NaN</td>\n",
       "      <td>1.000000</td>\n",
       "      <td>1.000000</td>\n",
       "      <td>NaN</td>\n",
       "      <td>NaN</td>\n",
       "      <td>NaN</td>\n",
       "      <td>NaN</td>\n",
       "      <td>NaN</td>\n",
       "      <td>NaN</td>\n",
       "      <td>NaN</td>\n",
       "      <td>NaN</td>\n",
       "      <td>NaN</td>\n",
       "      <td>NaN</td>\n",
       "      <td>NaN</td>\n",
       "      <td>NaN</td>\n",
       "      <td>NaN</td>\n",
       "      <td>NaN</td>\n",
       "      <td>52.489153</td>\n",
       "      <td>13.374492</td>\n",
       "      <td>NaN</td>\n",
       "      <td>NaN</td>\n",
       "      <td>NaN</td>\n",
       "      <td>2.000000</td>\n",
       "      <td>1.000000</td>\n",
       "      <td>1.000000</td>\n",
       "      <td>1.000000</td>\n",
       "      <td>NaN</td>\n",
       "      <td>NaN</td>\n",
       "      <td>0.000000</td>\n",
       "      <td>NaN</td>\n",
       "      <td>NaN</td>\n",
       "      <td>NaN</td>\n",
       "      <td>NaN</td>\n",
       "      <td>NaN</td>\n",
       "      <td>1.000000</td>\n",
       "      <td>NaN</td>\n",
       "      <td>2.000000</td>\n",
       "      <td>20.000000</td>\n",
       "      <td>2.000000</td>\n",
       "      <td>2.000000</td>\n",
       "      <td>20.000000</td>\n",
       "      <td>20.000000</td>\n",
       "      <td>2.000000</td>\n",
       "      <td>20.000000</td>\n",
       "      <td>NaN</td>\n",
       "      <td>NaN</td>\n",
       "      <td>0.000000</td>\n",
       "      <td>0.000000</td>\n",
       "      <td>0.000000</td>\n",
       "      <td>0.000000</td>\n",
       "      <td>NaN</td>\n",
       "      <td>1.000000</td>\n",
       "      <td>0.000000</td>\n",
       "      <td>NaN</td>\n",
       "      <td>NaN</td>\n",
       "      <td>92.000000</td>\n",
       "      <td>10.000000</td>\n",
       "      <td>9.000000</td>\n",
       "      <td>10.000000</td>\n",
       "      <td>10.000000</td>\n",
       "      <td>9.000000</td>\n",
       "      <td>9.000000</td>\n",
       "      <td>NaN</td>\n",
       "      <td>NaN</td>\n",
       "      <td>NaN</td>\n",
       "      <td>NaN</td>\n",
       "      <td>NaN</td>\n",
       "      <td>NaN</td>\n",
       "      <td>NaN</td>\n",
       "      <td>NaN</td>\n",
       "      <td>1.000000</td>\n",
       "      <td>0.000000</td>\n",
       "      <td>0.000000</td>\n",
       "      <td>0.000000</td>\n",
       "      <td>0.150000</td>\n",
       "    </tr>\n",
       "    <tr>\n",
       "      <th>50%</th>\n",
       "      <td>2.023298e+07</td>\n",
       "      <td>NaN</td>\n",
       "      <td>2.019102e+13</td>\n",
       "      <td>NaN</td>\n",
       "      <td>NaN</td>\n",
       "      <td>NaN</td>\n",
       "      <td>NaN</td>\n",
       "      <td>NaN</td>\n",
       "      <td>NaN</td>\n",
       "      <td>NaN</td>\n",
       "      <td>NaN</td>\n",
       "      <td>NaN</td>\n",
       "      <td>NaN</td>\n",
       "      <td>NaN</td>\n",
       "      <td>NaN</td>\n",
       "      <td>NaN</td>\n",
       "      <td>NaN</td>\n",
       "      <td>NaN</td>\n",
       "      <td>NaN</td>\n",
       "      <td>3.767545e+07</td>\n",
       "      <td>NaN</td>\n",
       "      <td>NaN</td>\n",
       "      <td>NaN</td>\n",
       "      <td>NaN</td>\n",
       "      <td>NaN</td>\n",
       "      <td>NaN</td>\n",
       "      <td>NaN</td>\n",
       "      <td>NaN</td>\n",
       "      <td>NaN</td>\n",
       "      <td>NaN</td>\n",
       "      <td>NaN</td>\n",
       "      <td>NaN</td>\n",
       "      <td>1.000000</td>\n",
       "      <td>1.000000</td>\n",
       "      <td>NaN</td>\n",
       "      <td>NaN</td>\n",
       "      <td>NaN</td>\n",
       "      <td>NaN</td>\n",
       "      <td>NaN</td>\n",
       "      <td>NaN</td>\n",
       "      <td>NaN</td>\n",
       "      <td>NaN</td>\n",
       "      <td>NaN</td>\n",
       "      <td>NaN</td>\n",
       "      <td>NaN</td>\n",
       "      <td>NaN</td>\n",
       "      <td>NaN</td>\n",
       "      <td>NaN</td>\n",
       "      <td>52.509360</td>\n",
       "      <td>13.416375</td>\n",
       "      <td>NaN</td>\n",
       "      <td>NaN</td>\n",
       "      <td>NaN</td>\n",
       "      <td>2.000000</td>\n",
       "      <td>1.000000</td>\n",
       "      <td>1.000000</td>\n",
       "      <td>1.000000</td>\n",
       "      <td>NaN</td>\n",
       "      <td>NaN</td>\n",
       "      <td>431.000000</td>\n",
       "      <td>NaN</td>\n",
       "      <td>NaN</td>\n",
       "      <td>NaN</td>\n",
       "      <td>NaN</td>\n",
       "      <td>NaN</td>\n",
       "      <td>1.000000</td>\n",
       "      <td>NaN</td>\n",
       "      <td>3.000000</td>\n",
       "      <td>1123.000000</td>\n",
       "      <td>2.000000</td>\n",
       "      <td>3.000000</td>\n",
       "      <td>1123.000000</td>\n",
       "      <td>1124.000000</td>\n",
       "      <td>3.000000</td>\n",
       "      <td>1123.000000</td>\n",
       "      <td>NaN</td>\n",
       "      <td>NaN</td>\n",
       "      <td>0.000000</td>\n",
       "      <td>0.000000</td>\n",
       "      <td>0.000000</td>\n",
       "      <td>1.000000</td>\n",
       "      <td>NaN</td>\n",
       "      <td>5.000000</td>\n",
       "      <td>1.000000</td>\n",
       "      <td>NaN</td>\n",
       "      <td>NaN</td>\n",
       "      <td>97.000000</td>\n",
       "      <td>10.000000</td>\n",
       "      <td>10.000000</td>\n",
       "      <td>10.000000</td>\n",
       "      <td>10.000000</td>\n",
       "      <td>10.000000</td>\n",
       "      <td>10.000000</td>\n",
       "      <td>NaN</td>\n",
       "      <td>NaN</td>\n",
       "      <td>NaN</td>\n",
       "      <td>NaN</td>\n",
       "      <td>NaN</td>\n",
       "      <td>NaN</td>\n",
       "      <td>NaN</td>\n",
       "      <td>NaN</td>\n",
       "      <td>1.000000</td>\n",
       "      <td>1.000000</td>\n",
       "      <td>1.000000</td>\n",
       "      <td>0.000000</td>\n",
       "      <td>0.510000</td>\n",
       "    </tr>\n",
       "    <tr>\n",
       "      <th>75%</th>\n",
       "      <td>2.957703e+07</td>\n",
       "      <td>NaN</td>\n",
       "      <td>2.019102e+13</td>\n",
       "      <td>NaN</td>\n",
       "      <td>NaN</td>\n",
       "      <td>NaN</td>\n",
       "      <td>NaN</td>\n",
       "      <td>NaN</td>\n",
       "      <td>NaN</td>\n",
       "      <td>NaN</td>\n",
       "      <td>NaN</td>\n",
       "      <td>NaN</td>\n",
       "      <td>NaN</td>\n",
       "      <td>NaN</td>\n",
       "      <td>NaN</td>\n",
       "      <td>NaN</td>\n",
       "      <td>NaN</td>\n",
       "      <td>NaN</td>\n",
       "      <td>NaN</td>\n",
       "      <td>1.085858e+08</td>\n",
       "      <td>NaN</td>\n",
       "      <td>NaN</td>\n",
       "      <td>NaN</td>\n",
       "      <td>NaN</td>\n",
       "      <td>NaN</td>\n",
       "      <td>NaN</td>\n",
       "      <td>NaN</td>\n",
       "      <td>NaN</td>\n",
       "      <td>NaN</td>\n",
       "      <td>NaN</td>\n",
       "      <td>NaN</td>\n",
       "      <td>NaN</td>\n",
       "      <td>2.000000</td>\n",
       "      <td>2.000000</td>\n",
       "      <td>NaN</td>\n",
       "      <td>NaN</td>\n",
       "      <td>NaN</td>\n",
       "      <td>NaN</td>\n",
       "      <td>NaN</td>\n",
       "      <td>NaN</td>\n",
       "      <td>NaN</td>\n",
       "      <td>NaN</td>\n",
       "      <td>NaN</td>\n",
       "      <td>NaN</td>\n",
       "      <td>NaN</td>\n",
       "      <td>NaN</td>\n",
       "      <td>NaN</td>\n",
       "      <td>NaN</td>\n",
       "      <td>52.532690</td>\n",
       "      <td>13.439657</td>\n",
       "      <td>NaN</td>\n",
       "      <td>NaN</td>\n",
       "      <td>NaN</td>\n",
       "      <td>3.000000</td>\n",
       "      <td>1.000000</td>\n",
       "      <td>1.000000</td>\n",
       "      <td>2.000000</td>\n",
       "      <td>NaN</td>\n",
       "      <td>NaN</td>\n",
       "      <td>753.000000</td>\n",
       "      <td>NaN</td>\n",
       "      <td>NaN</td>\n",
       "      <td>NaN</td>\n",
       "      <td>NaN</td>\n",
       "      <td>NaN</td>\n",
       "      <td>1.000000</td>\n",
       "      <td>NaN</td>\n",
       "      <td>4.000000</td>\n",
       "      <td>1125.000000</td>\n",
       "      <td>4.000000</td>\n",
       "      <td>5.000000</td>\n",
       "      <td>1125.000000</td>\n",
       "      <td>1125.000000</td>\n",
       "      <td>4.000000</td>\n",
       "      <td>1125.000000</td>\n",
       "      <td>NaN</td>\n",
       "      <td>NaN</td>\n",
       "      <td>6.000000</td>\n",
       "      <td>17.750000</td>\n",
       "      <td>33.000000</td>\n",
       "      <td>104.000000</td>\n",
       "      <td>NaN</td>\n",
       "      <td>18.000000</td>\n",
       "      <td>8.000000</td>\n",
       "      <td>NaN</td>\n",
       "      <td>NaN</td>\n",
       "      <td>100.000000</td>\n",
       "      <td>10.000000</td>\n",
       "      <td>10.000000</td>\n",
       "      <td>10.000000</td>\n",
       "      <td>10.000000</td>\n",
       "      <td>10.000000</td>\n",
       "      <td>10.000000</td>\n",
       "      <td>NaN</td>\n",
       "      <td>NaN</td>\n",
       "      <td>NaN</td>\n",
       "      <td>NaN</td>\n",
       "      <td>NaN</td>\n",
       "      <td>NaN</td>\n",
       "      <td>NaN</td>\n",
       "      <td>NaN</td>\n",
       "      <td>2.000000</td>\n",
       "      <td>1.000000</td>\n",
       "      <td>1.000000</td>\n",
       "      <td>0.000000</td>\n",
       "      <td>1.500000</td>\n",
       "    </tr>\n",
       "    <tr>\n",
       "      <th>max</th>\n",
       "      <td>3.941083e+07</td>\n",
       "      <td>NaN</td>\n",
       "      <td>2.019102e+13</td>\n",
       "      <td>NaN</td>\n",
       "      <td>NaN</td>\n",
       "      <td>NaN</td>\n",
       "      <td>NaN</td>\n",
       "      <td>NaN</td>\n",
       "      <td>NaN</td>\n",
       "      <td>NaN</td>\n",
       "      <td>NaN</td>\n",
       "      <td>NaN</td>\n",
       "      <td>NaN</td>\n",
       "      <td>NaN</td>\n",
       "      <td>NaN</td>\n",
       "      <td>NaN</td>\n",
       "      <td>NaN</td>\n",
       "      <td>NaN</td>\n",
       "      <td>NaN</td>\n",
       "      <td>3.026843e+08</td>\n",
       "      <td>NaN</td>\n",
       "      <td>NaN</td>\n",
       "      <td>NaN</td>\n",
       "      <td>NaN</td>\n",
       "      <td>NaN</td>\n",
       "      <td>NaN</td>\n",
       "      <td>NaN</td>\n",
       "      <td>NaN</td>\n",
       "      <td>NaN</td>\n",
       "      <td>NaN</td>\n",
       "      <td>NaN</td>\n",
       "      <td>NaN</td>\n",
       "      <td>1499.000000</td>\n",
       "      <td>1499.000000</td>\n",
       "      <td>NaN</td>\n",
       "      <td>NaN</td>\n",
       "      <td>NaN</td>\n",
       "      <td>NaN</td>\n",
       "      <td>NaN</td>\n",
       "      <td>NaN</td>\n",
       "      <td>NaN</td>\n",
       "      <td>NaN</td>\n",
       "      <td>NaN</td>\n",
       "      <td>NaN</td>\n",
       "      <td>NaN</td>\n",
       "      <td>NaN</td>\n",
       "      <td>NaN</td>\n",
       "      <td>NaN</td>\n",
       "      <td>52.663890</td>\n",
       "      <td>13.758420</td>\n",
       "      <td>NaN</td>\n",
       "      <td>NaN</td>\n",
       "      <td>NaN</td>\n",
       "      <td>16.000000</td>\n",
       "      <td>8.500000</td>\n",
       "      <td>12.000000</td>\n",
       "      <td>22.000000</td>\n",
       "      <td>NaN</td>\n",
       "      <td>NaN</td>\n",
       "      <td>4639.000000</td>\n",
       "      <td>NaN</td>\n",
       "      <td>NaN</td>\n",
       "      <td>NaN</td>\n",
       "      <td>NaN</td>\n",
       "      <td>NaN</td>\n",
       "      <td>200.000000</td>\n",
       "      <td>NaN</td>\n",
       "      <td>1124.000000</td>\n",
       "      <td>50000.000000</td>\n",
       "      <td>1124.000000</td>\n",
       "      <td>1124.000000</td>\n",
       "      <td>50000.000000</td>\n",
       "      <td>50000.000000</td>\n",
       "      <td>1124.000000</td>\n",
       "      <td>50000.000000</td>\n",
       "      <td>NaN</td>\n",
       "      <td>NaN</td>\n",
       "      <td>30.000000</td>\n",
       "      <td>60.000000</td>\n",
       "      <td>90.000000</td>\n",
       "      <td>365.000000</td>\n",
       "      <td>NaN</td>\n",
       "      <td>589.000000</td>\n",
       "      <td>487.000000</td>\n",
       "      <td>NaN</td>\n",
       "      <td>NaN</td>\n",
       "      <td>100.000000</td>\n",
       "      <td>10.000000</td>\n",
       "      <td>10.000000</td>\n",
       "      <td>10.000000</td>\n",
       "      <td>10.000000</td>\n",
       "      <td>10.000000</td>\n",
       "      <td>10.000000</td>\n",
       "      <td>NaN</td>\n",
       "      <td>NaN</td>\n",
       "      <td>NaN</td>\n",
       "      <td>NaN</td>\n",
       "      <td>NaN</td>\n",
       "      <td>NaN</td>\n",
       "      <td>NaN</td>\n",
       "      <td>NaN</td>\n",
       "      <td>55.000000</td>\n",
       "      <td>55.000000</td>\n",
       "      <td>12.000000</td>\n",
       "      <td>43.000000</td>\n",
       "      <td>38.220000</td>\n",
       "    </tr>\n",
       "  </tbody>\n",
       "</table>\n",
       "</div>"
      ],
      "text/plain": [
       "                  id                           listing_url     scrape_id  \\\n",
       "count   2.446200e+04                                 24462  2.446200e+04   \n",
       "unique           NaN                                 24462           NaN   \n",
       "top              NaN  https://www.airbnb.com/rooms/5448528           NaN   \n",
       "freq             NaN                                     1           NaN   \n",
       "mean    1.995163e+07                                   NaN  2.019102e+13   \n",
       "std     1.131304e+07                                   NaN  1.234400e+01   \n",
       "min     1.944000e+03                                   NaN  2.019102e+13   \n",
       "25%     1.003198e+07                                   NaN  2.019102e+13   \n",
       "50%     2.023298e+07                                   NaN  2.019102e+13   \n",
       "75%     2.957703e+07                                   NaN  2.019102e+13   \n",
       "max     3.941083e+07                                   NaN  2.019102e+13   \n",
       "\n",
       "       last_scraped                 name  \\\n",
       "count         24462                24411   \n",
       "unique            2                23757   \n",
       "top      2019-10-17  Cozy room in Berlin   \n",
       "freq          19198                    8   \n",
       "mean            NaN                  NaN   \n",
       "std             NaN                  NaN   \n",
       "min             NaN                  NaN   \n",
       "25%             NaN                  NaN   \n",
       "50%             NaN                  NaN   \n",
       "75%             NaN                  NaN   \n",
       "max             NaN                  NaN   \n",
       "\n",
       "                                                  summary  \\\n",
       "count                                               23261   \n",
       "unique                                              22494   \n",
       "top     with en-suite bathroom, TV, WIFI, bed linen, a...   \n",
       "freq                                                   15   \n",
       "mean                                                  NaN   \n",
       "std                                                   NaN   \n",
       "min                                                   NaN   \n",
       "25%                                                   NaN   \n",
       "50%                                                   NaN   \n",
       "75%                                                   NaN   \n",
       "max                                                   NaN   \n",
       "\n",
       "                                                    space  \\\n",
       "count                                               15928   \n",
       "unique                                              15260   \n",
       "top     The Singer 109 Hostel is located in the heart ...   \n",
       "freq                                                   45   \n",
       "mean                                                  NaN   \n",
       "std                                                   NaN   \n",
       "min                                                   NaN   \n",
       "25%                                                   NaN   \n",
       "50%                                                   NaN   \n",
       "75%                                                   NaN   \n",
       "max                                                   NaN   \n",
       "\n",
       "                                              description experiences_offered  \\\n",
       "count                                               24054               24462   \n",
       "unique                                              23568                   1   \n",
       "top     with en-suite bathroom, TV, WIFI, bed linen, a...                none   \n",
       "freq                                                   10               24462   \n",
       "mean                                                  NaN                 NaN   \n",
       "std                                                   NaN                 NaN   \n",
       "min                                                   NaN                 NaN   \n",
       "25%                                                   NaN                 NaN   \n",
       "50%                                                   NaN                 NaN   \n",
       "75%                                                   NaN                 NaN   \n",
       "max                                                   NaN                 NaN   \n",
       "\n",
       "                                    neighborhood_overview  \\\n",
       "count                                               13626   \n",
       "unique                                              12526   \n",
       "top     Welcome Traveler. The Singer Hostel and  Apart...   \n",
       "freq                                                   49   \n",
       "mean                                                  NaN   \n",
       "std                                                   NaN   \n",
       "min                                                   NaN   \n",
       "25%                                                   NaN   \n",
       "50%                                                   NaN   \n",
       "75%                                                   NaN   \n",
       "max                                                   NaN   \n",
       "\n",
       "                                                    notes  \\\n",
       "count                                                7898   \n",
       "unique                                               7150   \n",
       "top     Since 01.01.2014 the city of Berlin had to ado...   \n",
       "freq                                                   43   \n",
       "mean                                                  NaN   \n",
       "std                                                   NaN   \n",
       "min                                                   NaN   \n",
       "25%                                                   NaN   \n",
       "50%                                                   NaN   \n",
       "75%                                                   NaN   \n",
       "max                                                   NaN   \n",
       "\n",
       "                                                  transit  \\\n",
       "count                                               15007   \n",
       "unique                                              13998   \n",
       "top     U-Bahn / Underground /Subway / Metro: U5 (Stra...   \n",
       "freq                                                   29   \n",
       "mean                                                  NaN   \n",
       "std                                                   NaN   \n",
       "min                                                   NaN   \n",
       "25%                                                   NaN   \n",
       "50%                                                   NaN   \n",
       "75%                                                   NaN   \n",
       "max                                                   NaN   \n",
       "\n",
       "                                                   access  \\\n",
       "count                                               11337   \n",
       "unique                                              10230   \n",
       "top     Die Rezeption ist von 9Uhr bis 21Uhr besetzt. ...   \n",
       "freq                                                   27   \n",
       "mean                                                  NaN   \n",
       "std                                                   NaN   \n",
       "min                                                   NaN   \n",
       "25%                                                   NaN   \n",
       "50%                                                   NaN   \n",
       "75%                                                   NaN   \n",
       "max                                                   NaN   \n",
       "\n",
       "                                              interaction  \\\n",
       "count                                               12209   \n",
       "unique                                              11048   \n",
       "top     Since I’ll be traveling myself during your sta...   \n",
       "freq                                                   78   \n",
       "mean                                                  NaN   \n",
       "std                                                   NaN   \n",
       "min                                                   NaN   \n",
       "25%                                                   NaN   \n",
       "50%                                                   NaN   \n",
       "75%                                                   NaN   \n",
       "max                                                   NaN   \n",
       "\n",
       "                                              house_rules  thumbnail_url  \\\n",
       "count                                               12415            0.0   \n",
       "unique                                              11002            NaN   \n",
       "top     - Most importantly, please have a respectful a...            NaN   \n",
       "freq                                                   35            NaN   \n",
       "mean                                                  NaN            NaN   \n",
       "std                                                   NaN            NaN   \n",
       "min                                                   NaN            NaN   \n",
       "25%                                                   NaN            NaN   \n",
       "50%                                                   NaN            NaN   \n",
       "75%                                                   NaN            NaN   \n",
       "max                                                   NaN            NaN   \n",
       "\n",
       "        medium_url                                        picture_url  \\\n",
       "count          0.0                                              24462   \n",
       "unique         NaN                                              24209   \n",
       "top            NaN  https://a0.muscache.com/im/pictures/f5c74865-b...   \n",
       "freq           NaN                                                 10   \n",
       "mean           NaN                                                NaN   \n",
       "std            NaN                                                NaN   \n",
       "min            NaN                                                NaN   \n",
       "25%            NaN                                                NaN   \n",
       "50%            NaN                                                NaN   \n",
       "75%            NaN                                                NaN   \n",
       "max            NaN                                                NaN   \n",
       "\n",
       "        xl_picture_url       host_id  \\\n",
       "count              0.0  2.446200e+04   \n",
       "unique             NaN           NaN   \n",
       "top                NaN           NaN   \n",
       "freq               NaN           NaN   \n",
       "mean               NaN  7.063975e+07   \n",
       "std                NaN  7.897843e+07   \n",
       "min                NaN  2.058000e+03   \n",
       "25%                NaN  1.060749e+07   \n",
       "50%                NaN  3.767545e+07   \n",
       "75%                NaN  1.085858e+08   \n",
       "max                NaN  3.026843e+08   \n",
       "\n",
       "                                         host_url host_name  host_since  \\\n",
       "count                                       24462     24422       24422   \n",
       "unique                                      20427      6406        3243   \n",
       "top     https://www.airbnb.com/users/show/1625771      Anna  2017-02-20   \n",
       "freq                                           55       198          64   \n",
       "mean                                          NaN       NaN         NaN   \n",
       "std                                           NaN       NaN         NaN   \n",
       "min                                           NaN       NaN         NaN   \n",
       "25%                                           NaN       NaN         NaN   \n",
       "50%                                           NaN       NaN         NaN   \n",
       "75%                                           NaN       NaN         NaN   \n",
       "max                                           NaN       NaN         NaN   \n",
       "\n",
       "                  host_location host_about host_response_time  \\\n",
       "count                     24334      12086              13852   \n",
       "unique                     1077       9378                  4   \n",
       "top     Berlin, Berlin, Germany          .     within an hour   \n",
       "freq                      18512         69               7512   \n",
       "mean                        NaN        NaN                NaN   \n",
       "std                         NaN        NaN                NaN   \n",
       "min                         NaN        NaN                NaN   \n",
       "25%                         NaN        NaN                NaN   \n",
       "50%                         NaN        NaN                NaN   \n",
       "75%                         NaN        NaN                NaN   \n",
       "max                         NaN        NaN                NaN   \n",
       "\n",
       "       host_response_rate  host_acceptance_rate host_is_superhost  \\\n",
       "count               13852                   0.0             24422   \n",
       "unique                 70                   NaN                 2   \n",
       "top                  100%                   NaN                 f   \n",
       "freq                 9743                   NaN             20389   \n",
       "mean                  NaN                   NaN               NaN   \n",
       "std                   NaN                   NaN               NaN   \n",
       "min                   NaN                   NaN               NaN   \n",
       "25%                   NaN                   NaN               NaN   \n",
       "50%                   NaN                   NaN               NaN   \n",
       "75%                   NaN                   NaN               NaN   \n",
       "max                   NaN                   NaN               NaN   \n",
       "\n",
       "                                       host_thumbnail_url  \\\n",
       "count                                               24422   \n",
       "unique                                              20324   \n",
       "top     https://a0.muscache.com/defaults/user_pic-50x5...   \n",
       "freq                                                   69   \n",
       "mean                                                  NaN   \n",
       "std                                                   NaN   \n",
       "min                                                   NaN   \n",
       "25%                                                   NaN   \n",
       "50%                                                   NaN   \n",
       "75%                                                   NaN   \n",
       "max                                                   NaN   \n",
       "\n",
       "                                         host_picture_url host_neighbourhood  \\\n",
       "count                                               24422              19197   \n",
       "unique                                              20324                189   \n",
       "top     https://a0.muscache.com/defaults/user_pic-225x...           Neukölln   \n",
       "freq                                                   69               2703   \n",
       "mean                                                  NaN                NaN   \n",
       "std                                                   NaN                NaN   \n",
       "min                                                   NaN                NaN   \n",
       "25%                                                   NaN                NaN   \n",
       "50%                                                   NaN                NaN   \n",
       "75%                                                   NaN                NaN   \n",
       "max                                                   NaN                NaN   \n",
       "\n",
       "        host_listings_count  host_total_listings_count  \\\n",
       "count          24422.000000               24422.000000   \n",
       "unique                  NaN                        NaN   \n",
       "top                     NaN                        NaN   \n",
       "freq                    NaN                        NaN   \n",
       "mean               3.415936                   3.415936   \n",
       "std               31.813198                  31.813198   \n",
       "min                0.000000                   0.000000   \n",
       "25%                1.000000                   1.000000   \n",
       "50%                1.000000                   1.000000   \n",
       "75%                2.000000                   2.000000   \n",
       "max             1499.000000                1499.000000   \n",
       "\n",
       "                   host_verifications host_has_profile_pic  \\\n",
       "count                           24462                24422   \n",
       "unique                            330                    2   \n",
       "top     ['email', 'phone', 'reviews']                    t   \n",
       "freq                             3262                24353   \n",
       "mean                              NaN                  NaN   \n",
       "std                               NaN                  NaN   \n",
       "min                               NaN                  NaN   \n",
       "25%                               NaN                  NaN   \n",
       "50%                               NaN                  NaN   \n",
       "75%                               NaN                  NaN   \n",
       "max                               NaN                  NaN   \n",
       "\n",
       "       host_identity_verified                   street neighbourhood  \\\n",
       "count                   24422                    24462         24462   \n",
       "unique                      2                       97            93   \n",
       "top                         f  Berlin, Berlin, Germany      Neukölln   \n",
       "freq                    15809                    24154          3537   \n",
       "mean                      NaN                      NaN           NaN   \n",
       "std                       NaN                      NaN           NaN   \n",
       "min                       NaN                      NaN           NaN   \n",
       "25%                       NaN                      NaN           NaN   \n",
       "50%                       NaN                      NaN           NaN   \n",
       "75%                       NaN                      NaN           NaN   \n",
       "max                       NaN                      NaN           NaN   \n",
       "\n",
       "          neighbourhood_cleansed neighbourhood_group_cleansed    city   state  \\\n",
       "count                      24462                        24462   24453   24327   \n",
       "unique                       138                           12      64      30   \n",
       "top     Frankfurter Allee Süd FK     Friedrichshain-Kreuzberg  Berlin  Berlin   \n",
       "freq                        1440                         5873   24306   24254   \n",
       "mean                         NaN                          NaN     NaN     NaN   \n",
       "std                          NaN                          NaN     NaN     NaN   \n",
       "min                          NaN                          NaN     NaN     NaN   \n",
       "25%                          NaN                          NaN     NaN     NaN   \n",
       "50%                          NaN                          NaN     NaN     NaN   \n",
       "75%                          NaN                          NaN     NaN     NaN   \n",
       "max                          NaN                          NaN     NaN     NaN   \n",
       "\n",
       "       zipcode  market   smart_location country_code  country      latitude  \\\n",
       "count    23915   24402            24462        24462    24462  24462.000000   \n",
       "unique     212       6               67            3        3           NaN   \n",
       "top      10245  Berlin  Berlin, Germany           DE  Germany           NaN   \n",
       "freq       980   24392            24308        24460    24460           NaN   \n",
       "mean       NaN     NaN              NaN          NaN      NaN     52.509940   \n",
       "std        NaN     NaN              NaN          NaN      NaN      0.031449   \n",
       "min        NaN     NaN              NaN          NaN      NaN     52.345800   \n",
       "25%        NaN     NaN              NaN          NaN      NaN     52.489153   \n",
       "50%        NaN     NaN              NaN          NaN      NaN     52.509360   \n",
       "75%        NaN     NaN              NaN          NaN      NaN     52.532690   \n",
       "max        NaN     NaN              NaN          NaN      NaN     52.663890   \n",
       "\n",
       "           longitude is_location_exact property_type        room_type  \\\n",
       "count   24462.000000             24462         24462            24462   \n",
       "unique           NaN                 2            33                4   \n",
       "top              NaN                 t     Apartment  Entire home/apt   \n",
       "freq             NaN             18258         21690            12239   \n",
       "mean       13.405854               NaN           NaN              NaN   \n",
       "std         0.059649               NaN           NaN              NaN   \n",
       "min        13.097180               NaN           NaN              NaN   \n",
       "25%        13.374492               NaN           NaN              NaN   \n",
       "50%        13.416375               NaN           NaN              NaN   \n",
       "75%        13.439657               NaN           NaN              NaN   \n",
       "max        13.758420               NaN           NaN              NaN   \n",
       "\n",
       "        accommodates     bathrooms      bedrooms          beds  bed_type  \\\n",
       "count   24462.000000  24438.000000  24438.000000  24435.000000     24462   \n",
       "unique           NaN           NaN           NaN           NaN         5   \n",
       "top              NaN           NaN           NaN           NaN  Real Bed   \n",
       "freq             NaN           NaN           NaN           NaN     23778   \n",
       "mean        2.678685      1.101420      1.161142      1.621117       NaN   \n",
       "std         1.571074      0.350166      0.671027      1.219476       NaN   \n",
       "min         1.000000      0.000000      0.000000      0.000000       NaN   \n",
       "25%         2.000000      1.000000      1.000000      1.000000       NaN   \n",
       "50%         2.000000      1.000000      1.000000      1.000000       NaN   \n",
       "75%         3.000000      1.000000      1.000000      2.000000       NaN   \n",
       "max        16.000000      8.500000     12.000000     22.000000       NaN   \n",
       "\n",
       "       amenities  square_feet   price weekly_price monthly_price  \\\n",
       "count      24462   432.000000   24462         3196          2303   \n",
       "unique     21776          NaN     335          371           395   \n",
       "top           {}          NaN  $50.00      $300.00     $1,200.00   \n",
       "freq          62          NaN    1397          199           131   \n",
       "mean         NaN   487.354167     NaN          NaN           NaN   \n",
       "std          NaN   512.294504     NaN          NaN           NaN   \n",
       "min          NaN     0.000000     NaN          NaN           NaN   \n",
       "25%          NaN     0.000000     NaN          NaN           NaN   \n",
       "50%          NaN   431.000000     NaN          NaN           NaN   \n",
       "75%          NaN   753.000000     NaN          NaN           NaN   \n",
       "max          NaN  4639.000000     NaN          NaN           NaN   \n",
       "\n",
       "       security_deposit cleaning_fee  guests_included extra_people  \\\n",
       "count             14964        17295     24462.000000        24462   \n",
       "unique              162          124              NaN           68   \n",
       "top               $0.00        $0.00              NaN        $0.00   \n",
       "freq               6819         2364              NaN        11966   \n",
       "mean                NaN          NaN         1.365138          NaN   \n",
       "std                 NaN          NaN         1.550541          NaN   \n",
       "min                 NaN          NaN         1.000000          NaN   \n",
       "25%                 NaN          NaN         1.000000          NaN   \n",
       "50%                 NaN          NaN         1.000000          NaN   \n",
       "75%                 NaN          NaN         1.000000          NaN   \n",
       "max                 NaN          NaN       200.000000          NaN   \n",
       "\n",
       "        minimum_nights  maximum_nights  minimum_minimum_nights  \\\n",
       "count     24462.000000    24462.000000            24462.000000   \n",
       "unique             NaN             NaN                     NaN   \n",
       "top                NaN             NaN                     NaN   \n",
       "freq               NaN             NaN                     NaN   \n",
       "mean          7.108781      601.939825                7.000123   \n",
       "std          25.957602      637.954599               25.893069   \n",
       "min           1.000000        1.000000                1.000000   \n",
       "25%           2.000000       20.000000                2.000000   \n",
       "50%           3.000000     1123.000000                2.000000   \n",
       "75%           4.000000     1125.000000                4.000000   \n",
       "max        1124.000000    50000.000000             1124.000000   \n",
       "\n",
       "        maximum_minimum_nights  minimum_maximum_nights  \\\n",
       "count             24462.000000            24462.000000   \n",
       "unique                     NaN                     NaN   \n",
       "top                        NaN                     NaN   \n",
       "freq                       NaN                     NaN   \n",
       "mean                  7.464476              604.416932   \n",
       "std                  26.149284              660.078957   \n",
       "min                   1.000000                1.000000   \n",
       "25%                   2.000000               20.000000   \n",
       "50%                   3.000000             1123.000000   \n",
       "75%                   5.000000             1125.000000   \n",
       "max                1124.000000            50000.000000   \n",
       "\n",
       "        maximum_maximum_nights  minimum_nights_avg_ntm  \\\n",
       "count             24462.000000            24462.000000   \n",
       "unique                     NaN                     NaN   \n",
       "top                        NaN                     NaN   \n",
       "freq                       NaN                     NaN   \n",
       "mean                608.123661                7.188697   \n",
       "std                 673.384734               25.973666   \n",
       "min                   1.000000                1.000000   \n",
       "25%                  20.000000                2.000000   \n",
       "50%                1124.000000                3.000000   \n",
       "75%                1125.000000                4.000000   \n",
       "max               50000.000000             1124.000000   \n",
       "\n",
       "        maximum_nights_avg_ntm calendar_updated has_availability  \\\n",
       "count             24462.000000            24462            24462   \n",
       "unique                     NaN               85                1   \n",
       "top                        NaN            today                t   \n",
       "freq                       NaN             1742            24462   \n",
       "mean                606.832087              NaN              NaN   \n",
       "std                 673.176270              NaN              NaN   \n",
       "min                   1.000000              NaN              NaN   \n",
       "25%                  20.000000              NaN              NaN   \n",
       "50%                1123.000000              NaN              NaN   \n",
       "75%                1125.000000              NaN              NaN   \n",
       "max               50000.000000              NaN              NaN   \n",
       "\n",
       "        availability_30  availability_60  availability_90  availability_365  \\\n",
       "count      24462.000000     24462.000000     24462.000000      24462.000000   \n",
       "unique              NaN              NaN              NaN               NaN   \n",
       "top                 NaN              NaN              NaN               NaN   \n",
       "freq                NaN              NaN              NaN               NaN   \n",
       "mean           4.316041        11.057518        18.552490         73.447183   \n",
       "std            7.738135        17.902525        27.709677        115.630966   \n",
       "min            0.000000         0.000000         0.000000          0.000000   \n",
       "25%            0.000000         0.000000         0.000000          0.000000   \n",
       "50%            0.000000         0.000000         0.000000          1.000000   \n",
       "75%            6.000000        17.750000        33.000000        104.000000   \n",
       "max           30.000000        60.000000        90.000000        365.000000   \n",
       "\n",
       "       calendar_last_scraped  number_of_reviews  number_of_reviews_ltm  \\\n",
       "count                  24462       24462.000000           24462.000000   \n",
       "unique                     2                NaN                    NaN   \n",
       "top               2019-10-17                NaN                    NaN   \n",
       "freq                   19197                NaN                    NaN   \n",
       "mean                     NaN          20.988758               7.784605   \n",
       "std                      NaN          43.892533              15.627282   \n",
       "min                      NaN           0.000000               0.000000   \n",
       "25%                      NaN           1.000000               0.000000   \n",
       "50%                      NaN           5.000000               1.000000   \n",
       "75%                      NaN          18.000000               8.000000   \n",
       "max                      NaN         589.000000             487.000000   \n",
       "\n",
       "       first_review last_review  review_scores_rating  review_scores_accuracy  \\\n",
       "count         20420       20420          19952.000000            19927.000000   \n",
       "unique         2519        1598                   NaN                     NaN   \n",
       "top      2017-05-28  2019-09-30                   NaN                     NaN   \n",
       "freq             98         789                   NaN                     NaN   \n",
       "mean            NaN         NaN             94.646752                9.686355   \n",
       "std             NaN         NaN              7.548013                0.731001   \n",
       "min             NaN         NaN             20.000000                2.000000   \n",
       "25%             NaN         NaN             92.000000               10.000000   \n",
       "50%             NaN         NaN             97.000000               10.000000   \n",
       "75%             NaN         NaN            100.000000               10.000000   \n",
       "max             NaN         NaN            100.000000               10.000000   \n",
       "\n",
       "        review_scores_cleanliness  review_scores_checkin  \\\n",
       "count                19930.000000           19909.000000   \n",
       "unique                        NaN                    NaN   \n",
       "top                           NaN                    NaN   \n",
       "freq                          NaN                    NaN   \n",
       "mean                     9.333869               9.732834   \n",
       "std                      1.026529               0.684803   \n",
       "min                      2.000000               2.000000   \n",
       "25%                      9.000000              10.000000   \n",
       "50%                     10.000000              10.000000   \n",
       "75%                     10.000000              10.000000   \n",
       "max                     10.000000              10.000000   \n",
       "\n",
       "        review_scores_communication  review_scores_location  \\\n",
       "count                  19926.000000            19910.000000   \n",
       "unique                          NaN                     NaN   \n",
       "top                             NaN                     NaN   \n",
       "freq                            NaN                     NaN   \n",
       "mean                       9.748018                9.588649   \n",
       "std                        0.679575                0.723070   \n",
       "min                        2.000000                2.000000   \n",
       "25%                       10.000000                9.000000   \n",
       "50%                       10.000000               10.000000   \n",
       "75%                       10.000000               10.000000   \n",
       "max                       10.000000               10.000000   \n",
       "\n",
       "        review_scores_value requires_license     license  jurisdiction_names  \\\n",
       "count          19907.000000            24462        2550                 0.0   \n",
       "unique                  NaN                2        2145                 NaN   \n",
       "top                     NaN                t  HRB155306B                 NaN   \n",
       "freq                    NaN            24447          37                 NaN   \n",
       "mean               9.414226              NaN         NaN                 NaN   \n",
       "std                0.837203              NaN         NaN                 NaN   \n",
       "min                2.000000              NaN         NaN                 NaN   \n",
       "25%                9.000000              NaN         NaN                 NaN   \n",
       "50%               10.000000              NaN         NaN                 NaN   \n",
       "75%               10.000000              NaN         NaN                 NaN   \n",
       "max               10.000000              NaN         NaN                 NaN   \n",
       "\n",
       "       instant_bookable is_business_travel_ready cancellation_policy  \\\n",
       "count             24462                    24462               24462   \n",
       "unique                2                        1                   6   \n",
       "top                   f                        f            flexible   \n",
       "freq              15960                    24462                9629   \n",
       "mean                NaN                      NaN                 NaN   \n",
       "std                 NaN                      NaN                 NaN   \n",
       "min                 NaN                      NaN                 NaN   \n",
       "25%                 NaN                      NaN                 NaN   \n",
       "50%                 NaN                      NaN                 NaN   \n",
       "75%                 NaN                      NaN                 NaN   \n",
       "max                 NaN                      NaN                 NaN   \n",
       "\n",
       "       require_guest_profile_picture require_guest_phone_verification  \\\n",
       "count                          24462                            24462   \n",
       "unique                             2                                2   \n",
       "top                                f                                f   \n",
       "freq                           24297                            24184   \n",
       "mean                             NaN                              NaN   \n",
       "std                              NaN                              NaN   \n",
       "min                              NaN                              NaN   \n",
       "25%                              NaN                              NaN   \n",
       "50%                              NaN                              NaN   \n",
       "75%                              NaN                              NaN   \n",
       "max                              NaN                              NaN   \n",
       "\n",
       "        calculated_host_listings_count  \\\n",
       "count                     24462.000000   \n",
       "unique                             NaN   \n",
       "top                                NaN   \n",
       "freq                               NaN   \n",
       "mean                          2.227046   \n",
       "std                           4.729911   \n",
       "min                           1.000000   \n",
       "25%                           1.000000   \n",
       "50%                           1.000000   \n",
       "75%                           2.000000   \n",
       "max                          55.000000   \n",
       "\n",
       "        calculated_host_listings_count_entire_homes  \\\n",
       "count                                  24462.000000   \n",
       "unique                                          NaN   \n",
       "top                                             NaN   \n",
       "freq                                            NaN   \n",
       "mean                                       1.270133   \n",
       "std                                        3.916157   \n",
       "min                                        0.000000   \n",
       "25%                                        0.000000   \n",
       "50%                                        1.000000   \n",
       "75%                                        1.000000   \n",
       "max                                       55.000000   \n",
       "\n",
       "        calculated_host_listings_count_private_rooms  \\\n",
       "count                                   24462.000000   \n",
       "unique                                           NaN   \n",
       "top                                              NaN   \n",
       "freq                                             NaN   \n",
       "mean                                        0.705175   \n",
       "std                                         1.071610   \n",
       "min                                         0.000000   \n",
       "25%                                         0.000000   \n",
       "50%                                         1.000000   \n",
       "75%                                         1.000000   \n",
       "max                                        12.000000   \n",
       "\n",
       "        calculated_host_listings_count_shared_rooms  reviews_per_month  \n",
       "count                                  24462.000000       20420.000000  \n",
       "unique                                          NaN                NaN  \n",
       "top                                             NaN                NaN  \n",
       "freq                                            NaN                NaN  \n",
       "mean                                       0.133922           1.131033  \n",
       "std                                        2.105660           1.561775  \n",
       "min                                        0.000000           0.010000  \n",
       "25%                                        0.000000           0.150000  \n",
       "50%                                        0.000000           0.510000  \n",
       "75%                                        0.000000           1.500000  \n",
       "max                                       43.000000          38.220000  "
      ]
     },
     "execution_count": 7,
     "metadata": {},
     "output_type": "execute_result"
    }
   ],
   "source": [
    "airbnb_df.describe(include=\"all\")"
   ]
  },
  {
   "cell_type": "markdown",
   "metadata": {},
   "source": [
    "### Columns to be dropped which are not to be used in current research problem"
   ]
  },
  {
   "cell_type": "code",
   "execution_count": 8,
   "metadata": {
    "scrolled": false
   },
   "outputs": [],
   "source": [
    "cols_to_drop = ['listing_url', 'scrape_id', 'last_scraped', 'name', 'summary', 'space', 'description', 'neighborhood_overview', 'notes', 'transit', 'access', 'interaction', 'house_rules', 'thumbnail_url', 'medium_url', 'picture_url', 'xl_picture_url', 'host_id', 'host_url', 'host_name', 'host_location', 'host_about', 'host_thumbnail_url', 'host_picture_url', 'host_neighbourhood', 'host_verifications', 'calendar_last_scraped','calendar_updated']\n",
    "airbnb_df.drop(cols_to_drop, axis=1, inplace=True)"
   ]
  },
  {
   "cell_type": "markdown",
   "metadata": {},
   "source": [
    "# Checking null values"
   ]
  },
  {
   "cell_type": "code",
   "execution_count": 9,
   "metadata": {
    "scrolled": true
   },
   "outputs": [
    {
     "data": {
      "text/plain": [
       "id                                                  0\n",
       "experiences_offered                                 0\n",
       "host_since                                         40\n",
       "host_response_time                              10610\n",
       "host_response_rate                              10610\n",
       "host_acceptance_rate                            24462\n",
       "host_is_superhost                                  40\n",
       "host_listings_count                                40\n",
       "host_total_listings_count                          40\n",
       "host_has_profile_pic                               40\n",
       "host_identity_verified                             40\n",
       "street                                              0\n",
       "neighbourhood                                       0\n",
       "neighbourhood_cleansed                              0\n",
       "neighbourhood_group_cleansed                        0\n",
       "city                                                9\n",
       "state                                             135\n",
       "zipcode                                           547\n",
       "market                                             60\n",
       "smart_location                                      0\n",
       "country_code                                        0\n",
       "country                                             0\n",
       "latitude                                            0\n",
       "longitude                                           0\n",
       "is_location_exact                                   0\n",
       "property_type                                       0\n",
       "room_type                                           0\n",
       "accommodates                                        0\n",
       "bathrooms                                          24\n",
       "bedrooms                                           24\n",
       "beds                                               27\n",
       "bed_type                                            0\n",
       "amenities                                           0\n",
       "square_feet                                     24030\n",
       "price                                               0\n",
       "weekly_price                                    21266\n",
       "monthly_price                                   22159\n",
       "security_deposit                                 9498\n",
       "cleaning_fee                                     7167\n",
       "guests_included                                     0\n",
       "extra_people                                        0\n",
       "minimum_nights                                      0\n",
       "maximum_nights                                      0\n",
       "minimum_minimum_nights                              0\n",
       "maximum_minimum_nights                              0\n",
       "minimum_maximum_nights                              0\n",
       "maximum_maximum_nights                              0\n",
       "minimum_nights_avg_ntm                              0\n",
       "maximum_nights_avg_ntm                              0\n",
       "has_availability                                    0\n",
       "availability_30                                     0\n",
       "availability_60                                     0\n",
       "availability_90                                     0\n",
       "availability_365                                    0\n",
       "number_of_reviews                                   0\n",
       "number_of_reviews_ltm                               0\n",
       "first_review                                     4042\n",
       "last_review                                      4042\n",
       "review_scores_rating                             4510\n",
       "review_scores_accuracy                           4535\n",
       "review_scores_cleanliness                        4532\n",
       "review_scores_checkin                            4553\n",
       "review_scores_communication                      4536\n",
       "review_scores_location                           4552\n",
       "review_scores_value                              4555\n",
       "requires_license                                    0\n",
       "license                                         21912\n",
       "jurisdiction_names                              24462\n",
       "instant_bookable                                    0\n",
       "is_business_travel_ready                            0\n",
       "cancellation_policy                                 0\n",
       "require_guest_profile_picture                       0\n",
       "require_guest_phone_verification                    0\n",
       "calculated_host_listings_count                      0\n",
       "calculated_host_listings_count_entire_homes         0\n",
       "calculated_host_listings_count_private_rooms        0\n",
       "calculated_host_listings_count_shared_rooms         0\n",
       "reviews_per_month                                4042\n",
       "dtype: int64"
      ]
     },
     "execution_count": 9,
     "metadata": {},
     "output_type": "execute_result"
    }
   ],
   "source": [
    "airbnb_df.isna().sum()"
   ]
  },
  {
   "cell_type": "code",
   "execution_count": 10,
   "metadata": {},
   "outputs": [],
   "source": [
    "#dropping columns with null values\n",
    "airbnb_df.drop(['host_acceptance_rate', 'neighbourhood_group_cleansed', 'square_feet', 'weekly_price', 'monthly_price', 'license', 'jurisdiction_names'], axis=1, inplace=True)"
   ]
  },
  {
   "cell_type": "markdown",
   "metadata": {},
   "source": [
    "handling f and t in boolean columns"
   ]
  },
  {
   "cell_type": "code",
   "execution_count": 11,
   "metadata": {},
   "outputs": [],
   "source": [
    "# Replacing columns with f/t with boolean values\n",
    "airbnb_df.replace({'f': 0, 't': 1}, inplace=True)"
   ]
  },
  {
   "cell_type": "raw",
   "metadata": {},
   "source": [
    "host_listings_count and host_total_listings_count are the same in most of the cases , hence one of the column to be dropped"
   ]
  },
  {
   "cell_type": "code",
   "execution_count": 12,
   "metadata": {
    "scrolled": true
   },
   "outputs": [
    {
     "data": {
      "text/plain": [
       "(24422, 71)"
      ]
     },
     "execution_count": 12,
     "metadata": {},
     "output_type": "execute_result"
    }
   ],
   "source": [
    "airbnb_df.loc[(airbnb_df.host_listings_count == airbnb_df.host_total_listings_count)].shape"
   ]
  },
  {
   "cell_type": "code",
   "execution_count": 13,
   "metadata": {},
   "outputs": [],
   "source": [
    "airbnb_df.drop(['host_total_listings_count', 'calculated_host_listings_count', 'calculated_host_listings_count_entire_homes', 'calculated_host_listings_count_private_rooms', 'calculated_host_listings_count_shared_rooms'], axis=1, inplace=True)"
   ]
  },
  {
   "cell_type": "markdown",
   "metadata": {},
   "source": [
    "minimum nights and minimum_minimum_nights are the same in most of the cases , hence one of the column to be dropped"
   ]
  },
  {
   "cell_type": "code",
   "execution_count": 14,
   "metadata": {},
   "outputs": [
    {
     "data": {
      "text/plain": [
       "(23614, 66)"
      ]
     },
     "execution_count": 14,
     "metadata": {},
     "output_type": "execute_result"
    }
   ],
   "source": [
    "airbnb_df.loc[(airbnb_df.minimum_nights == airbnb_df.minimum_minimum_nights)].shape"
   ]
  },
  {
   "cell_type": "code",
   "execution_count": 15,
   "metadata": {},
   "outputs": [],
   "source": [
    "airbnb_df.drop(['minimum_minimum_nights', 'maximum_minimum_nights', 'minimum_maximum_nights', 'maximum_maximum_nights', 'minimum_nights_avg_ntm', 'maximum_nights_avg_ntm'], axis=1, inplace=True)"
   ]
  },
  {
   "cell_type": "markdown",
   "metadata": {},
   "source": [
    "apart from city and country columns rest columns for location are dropped as they will not be used in research"
   ]
  },
  {
   "cell_type": "code",
   "execution_count": 16,
   "metadata": {
    "scrolled": true
   },
   "outputs": [],
   "source": [
    "lat_long = airbnb_df[['latitude', 'longitude']]"
   ]
  },
  {
   "cell_type": "code",
   "execution_count": 17,
   "metadata": {},
   "outputs": [],
   "source": [
    "airbnb_df.drop(['zipcode', 'latitude', 'longitude', 'street', 'neighbourhood', 'state', 'market', 'smart_location', 'country_code','is_location_exact'], axis=1, inplace=True)"
   ]
  },
  {
   "cell_type": "markdown",
   "metadata": {},
   "source": [
    "# Understanding distribution of all columns "
   ]
  },
  {
   "cell_type": "code",
   "execution_count": 18,
   "metadata": {},
   "outputs": [
    {
     "data": {
      "image/png": "[encoded data removed]",
      "text/plain": [
       "<Figure size 1440x1440 with 36 Axes>"
      ]
     },
     "metadata": {
      "needs_background": "light"
     },
     "output_type": "display_data"
    }
   ],
   "source": [
    "airbnb_df.hist(figsize=(20,20));"
   ]
  },
  {
   "cell_type": "markdown",
   "metadata": {},
   "source": [
    "From the above, it can be seen that several columns only contain one category and can be dropped:"
   ]
  },
  {
   "cell_type": "code",
   "execution_count": 19,
   "metadata": {},
   "outputs": [],
   "source": [
    "airbnb_df.drop(['has_availability', 'host_has_profile_pic', 'is_business_travel_ready', 'require_guest_phone_verification', 'require_guest_profile_picture', 'requires_license'], axis=1, inplace=True)"
   ]
  },
  {
   "cell_type": "markdown",
   "metadata": {},
   "source": [
    "host since is used to understand how many days host has been there on platform"
   ]
  },
  {
   "cell_type": "code",
   "execution_count": 20,
   "metadata": {
    "scrolled": true
   },
   "outputs": [],
   "source": [
    "# Converting to datetime\n",
    "airbnb_df.host_since = pd.to_datetime(airbnb_df.host_since) \n",
    "\n",
    "# Calculating the number of days\n",
    "airbnb_df['host_days_active'] = (datetime(2019, 9, 15) - airbnb_df.host_since).astype('timedelta64[D]')\n",
    "\n",
    "# Replacing null values with the median\n",
    "airbnb_df.host_days_active.fillna(airbnb_df.host_days_active.median(), inplace=True)"
   ]
  },
  {
   "cell_type": "markdown",
   "metadata": {},
   "source": [
    "host_response_time na values are handled by putting value as unkown"
   ]
  },
  {
   "cell_type": "code",
   "execution_count": 21,
   "metadata": {},
   "outputs": [
    {
     "data": {
      "text/plain": [
       "unknown               10610\n",
       "within an hour         7512\n",
       "within a few hours     3013\n",
       "within a day           2790\n",
       "a few days or more      537\n",
       "Name: host_response_time, dtype: int64"
      ]
     },
     "execution_count": 21,
     "metadata": {},
     "output_type": "execute_result"
    }
   ],
   "source": [
    "airbnb_df.host_response_time.fillna(\"unknown\", inplace=True)\n",
    "airbnb_df.host_response_time.value_counts()"
   ]
  },
  {
   "cell_type": "markdown",
   "metadata": {},
   "source": [
    "host_response_rate is categorized into several categories to bin the rates and null value is replaced by unknown"
   ]
  },
  {
   "cell_type": "code",
   "execution_count": 22,
   "metadata": {},
   "outputs": [],
   "source": [
    "airbnb_df.host_response_rate = airbnb_df.host_response_rate.str[:-1].astype('float64')"
   ]
  },
  {
   "cell_type": "code",
   "execution_count": 23,
   "metadata": {
    "scrolled": true
   },
   "outputs": [
    {
     "data": {
      "text/plain": [
       "unknown    10610\n",
       "100         9743\n",
       "75-99       2501\n",
       "50-74        821\n",
       "25-49        456\n",
       "0-24         331\n",
       "Name: host_response_rate, dtype: int64"
      ]
     },
     "execution_count": 23,
     "metadata": {},
     "output_type": "execute_result"
    }
   ],
   "source": [
    "airbnb_df.host_response_rate = pd.cut(airbnb_df.host_response_rate, bins=[0, 25, 50, 75, 99, 100], labels=['0-24','25-49', '50-74','75-99','100'], include_lowest=True)\n",
    "\n",
    "airbnb_df.host_response_rate = airbnb_df.host_response_rate.astype('str')\n",
    "\n",
    "airbnb_df.host_response_rate.replace('nan', 'unknown', inplace=True)\n",
    "\n",
    "airbnb_df.host_response_rate.value_counts()"
   ]
  },
  {
   "cell_type": "markdown",
   "metadata": {},
   "source": [
    "drop datetime column for host since "
   ]
  },
  {
   "cell_type": "code",
   "execution_count": 24,
   "metadata": {},
   "outputs": [
    {
     "data": {
      "text/plain": [
       "array(['2008-08-16T00:00:00.000000000', '2008-10-19T00:00:00.000000000',\n",
       "       '2008-11-07T00:00:00.000000000', ...,\n",
       "       '2014-10-04T00:00:00.000000000', '2015-08-23T00:00:00.000000000',\n",
       "       '2015-04-06T00:00:00.000000000'], dtype='datetime64[ns]')"
      ]
     },
     "execution_count": 24,
     "metadata": {},
     "output_type": "execute_result"
    }
   ],
   "source": [
    "airbnb_df.host_since.values"
   ]
  },
  {
   "cell_type": "code",
   "execution_count": 25,
   "metadata": {},
   "outputs": [],
   "source": [
    "airbnb_df.dropna(subset=['host_since'], inplace=True)"
   ]
  },
  {
   "cell_type": "markdown",
   "metadata": {},
   "source": [
    "there are multiple different kind of properties which can be mapped to apartment , house and hotel respectively"
   ]
  },
  {
   "cell_type": "code",
   "execution_count": 26,
   "metadata": {
    "scrolled": true
   },
   "outputs": [
    {
     "data": {
      "text/plain": [
       "Apartment                 21652\n",
       "Condominium                 660\n",
       "House                       486\n",
       "Loft                        480\n",
       "Serviced apartment          280\n",
       "Hostel                      186\n",
       "Townhouse                   121\n",
       "Hotel                        91\n",
       "Boutique hotel               87\n",
       "Guest suite                  69\n",
       "Guesthouse                   65\n",
       "Bed and breakfast            45\n",
       "Other                        31\n",
       "Bungalow                     25\n",
       "Villa                        19\n",
       "Houseboat                    18\n",
       "Boat                         17\n",
       "Aparthotel                   13\n",
       "Casa particular (Cuba)       13\n",
       "Tiny house                   12\n",
       "Camper/RV                    11\n",
       "Pension (South Korea)         8\n",
       "Cottage                       8\n",
       "Cabin                         7\n",
       "Barn                          5\n",
       "Castle                        3\n",
       "Treehouse                     3\n",
       "Earth house                   2\n",
       "Vacation home                 1\n",
       "Tipi                          1\n",
       "Cave                          1\n",
       "Resort                        1\n",
       "Lighthouse                    1\n",
       "Name: property_type, dtype: int64"
      ]
     },
     "execution_count": 26,
     "metadata": {},
     "output_type": "execute_result"
    }
   ],
   "source": [
    "airbnb_df.property_type.value_counts()"
   ]
  },
  {
   "cell_type": "code",
   "execution_count": 27,
   "metadata": {},
   "outputs": [],
   "source": [
    "# Replacing categories that are types of houses or apartments or hotels\n",
    "airbnb_df.property_type.replace({\n",
    "    'Townhouse': 'House',\n",
    "    'Serviced apartment': 'Apartment',\n",
    "    'Aparthotel':'Apartment',\n",
    "    'Condominium':'Apartment',\n",
    "    'Loft': 'Apartment',\n",
    "    'Bungalow': 'House',\n",
    "    'Cottage': 'House',\n",
    "    'Villa': 'House',\n",
    "    'Tiny house': 'House',\n",
    "    'Earth house': 'House',\n",
    "    'Chalet': 'House',\n",
    "    'Boutique hotel':'Hotel'\n",
    "    }, inplace=True)\n",
    "\n",
    "# Replacing other categories with 'other'\n",
    "airbnb_df.loc[~airbnb_df.property_type.isin(['House', 'Apartment','Hotel']), 'property_type'] = 'Other'"
   ]
  },
  {
   "cell_type": "markdown",
   "metadata": {},
   "source": [
    "handling null values in bathroom, bedroom, beds column with putting median value for na"
   ]
  },
  {
   "cell_type": "code",
   "execution_count": 28,
   "metadata": {},
   "outputs": [],
   "source": [
    "for col in ['bathrooms', 'bedrooms', 'beds']:\n",
    "    airbnb_df[col].fillna(airbnb_df[col].median(), inplace=True)"
   ]
  },
  {
   "cell_type": "markdown",
   "metadata": {},
   "source": [
    "there can be multiple kind of amenities and most important amenities that affect the price of the listing must be used as a feature"
   ]
  },
  {
   "cell_type": "code",
   "execution_count": 29,
   "metadata": {
    "scrolled": false
   },
   "outputs": [
    {
     "data": {
      "text/plain": [
       "{'',\n",
       " '24-hour check-in',\n",
       " 'Accessible-height bed',\n",
       " 'Accessible-height toilet',\n",
       " 'Air conditioning',\n",
       " 'Air purifier',\n",
       " 'BBQ grill',\n",
       " 'Baby bath',\n",
       " 'Baby monitor',\n",
       " 'Babysitter recommendations',\n",
       " 'Balcony',\n",
       " 'Bath towel',\n",
       " 'Bathroom essentials',\n",
       " 'Bathtub',\n",
       " 'Bathtub with bath chair',\n",
       " 'Beach essentials',\n",
       " 'Beach view',\n",
       " 'Beachfront',\n",
       " 'Bed linens',\n",
       " 'Bedroom comforts',\n",
       " 'Bidet',\n",
       " 'Body soap',\n",
       " 'Breakfast',\n",
       " 'Breakfast table',\n",
       " 'Building staff',\n",
       " 'Buzzer/wireless intercom',\n",
       " 'Cable TV',\n",
       " 'Carbon monoxide detector',\n",
       " 'Cat(s)',\n",
       " 'Ceiling fan',\n",
       " 'Ceiling hoist',\n",
       " 'Changing table',\n",
       " 'Children’s books and toys',\n",
       " 'Children’s dinnerware',\n",
       " 'Cleaning before checkout',\n",
       " 'Coffee maker',\n",
       " 'Convection oven',\n",
       " 'Cooking basics',\n",
       " 'Crib',\n",
       " 'DVD player',\n",
       " 'Day bed',\n",
       " 'Disabled parking spot',\n",
       " 'Dishes and silverware',\n",
       " 'Dishwasher',\n",
       " 'Dog(s)',\n",
       " 'Doorman',\n",
       " 'Double oven',\n",
       " 'Dryer',\n",
       " 'EV charger',\n",
       " 'Electric profiling bed',\n",
       " 'Elevator',\n",
       " 'En suite bathroom',\n",
       " 'Espresso machine',\n",
       " 'Essentials',\n",
       " 'Ethernet connection',\n",
       " 'Extra pillows and blankets',\n",
       " 'Extra space around bed',\n",
       " 'Family/kid friendly',\n",
       " 'Fire extinguisher',\n",
       " 'Fire pit',\n",
       " 'Fireplace guards',\n",
       " 'Firm mattress',\n",
       " 'First aid kit',\n",
       " 'Fixed grab bars for shower',\n",
       " 'Fixed grab bars for toilet',\n",
       " 'Flat path to guest entrance',\n",
       " 'Formal dining area',\n",
       " 'Free parking on premises',\n",
       " 'Free street parking',\n",
       " 'Full kitchen',\n",
       " 'Game console',\n",
       " 'Garden or backyard',\n",
       " 'Gas oven',\n",
       " 'Ground floor access',\n",
       " 'Gym',\n",
       " 'HBO GO',\n",
       " 'Hair dryer',\n",
       " 'Hammock',\n",
       " 'Handheld shower head',\n",
       " 'Hangers',\n",
       " 'Heated floors',\n",
       " 'Heated towel rack',\n",
       " 'Heating',\n",
       " 'High chair',\n",
       " 'High-resolution computer monitor',\n",
       " 'Host greets you',\n",
       " 'Hot tub',\n",
       " 'Hot water',\n",
       " 'Hot water kettle',\n",
       " 'Indoor fireplace',\n",
       " 'Internet',\n",
       " 'Iron',\n",
       " 'Keypad',\n",
       " 'Kitchen',\n",
       " 'Kitchenette',\n",
       " 'Lake access',\n",
       " 'Laptop friendly workspace',\n",
       " 'Lock on bedroom door',\n",
       " 'Lockbox',\n",
       " 'Long term stays allowed',\n",
       " 'Luggage dropoff allowed',\n",
       " 'Memory foam mattress',\n",
       " 'Microwave',\n",
       " 'Mudroom',\n",
       " 'Murphy bed',\n",
       " 'Netflix',\n",
       " 'No stairs or steps to enter',\n",
       " 'Other',\n",
       " 'Other pet(s)',\n",
       " 'Outdoor parking',\n",
       " 'Outdoor seating',\n",
       " 'Outlet covers',\n",
       " 'Oven',\n",
       " 'Pack ’n Play/travel crib',\n",
       " 'Paid parking off premises',\n",
       " 'Paid parking on premises',\n",
       " 'Patio or balcony',\n",
       " 'Pets allowed',\n",
       " 'Pets live on this property',\n",
       " 'Pillow-top mattress',\n",
       " 'Pocket wifi',\n",
       " 'Pool',\n",
       " 'Pool with pool hoist',\n",
       " 'Printer',\n",
       " 'Private bathroom',\n",
       " 'Private entrance',\n",
       " 'Private hot tub',\n",
       " 'Private living room',\n",
       " 'Projector and screen',\n",
       " 'Rain shower',\n",
       " 'Refrigerator',\n",
       " 'Room-darkening shades',\n",
       " 'Safety card',\n",
       " 'Self check-in',\n",
       " 'Shampoo',\n",
       " 'Shower chair',\n",
       " 'Single level home',\n",
       " 'Ski-in/Ski-out',\n",
       " 'Smart TV',\n",
       " 'Smart lock',\n",
       " 'Smoke detector',\n",
       " 'Smoking allowed',\n",
       " 'Soaking tub',\n",
       " 'Sound system',\n",
       " 'Stair gates',\n",
       " 'Stand alone steam shower',\n",
       " 'Standing valet',\n",
       " 'Steam oven',\n",
       " 'Step-free shower',\n",
       " 'Stove',\n",
       " 'Suitable for events',\n",
       " 'Sun loungers',\n",
       " 'TV',\n",
       " 'Table corner guards',\n",
       " 'Terrace',\n",
       " 'Toilet paper',\n",
       " 'Walk-in shower',\n",
       " 'Warming drawer',\n",
       " 'Washer',\n",
       " 'Washer / Dryer',\n",
       " 'Waterfront',\n",
       " 'Well-lit path to entrance',\n",
       " 'Wheelchair accessible',\n",
       " 'Wide clearance to shower',\n",
       " 'Wide doorway to guest bathroom',\n",
       " 'Wide entrance',\n",
       " 'Wide entrance for guests',\n",
       " 'Wide entryway',\n",
       " 'Wide hallways',\n",
       " 'Wifi',\n",
       " 'Window guards',\n",
       " 'Wine cooler',\n",
       " 'toilet',\n",
       " 'translation missing: en.hosting_amenity_49',\n",
       " 'translation missing: en.hosting_amenity_50'}"
      ]
     },
     "execution_count": 29,
     "metadata": {},
     "output_type": "execute_result"
    }
   ],
   "source": [
    "# Creating a set of all possible amenities\n",
    "amenities_list = list(airbnb_df.amenities)\n",
    "amenities_list_string = \" \".join(amenities_list)\n",
    "amenities_list_string = amenities_list_string.replace('{', '')\n",
    "amenities_list_string = amenities_list_string.replace('}', ',')\n",
    "amenities_list_string = amenities_list_string.replace('\"', '')\n",
    "amenities_set = [x.strip() for x in amenities_list_string.split(',')]\n",
    "amenities_set = set(amenities_set)\n",
    "amenities_set"
   ]
  },
  {
   "cell_type": "code",
   "execution_count": 30,
   "metadata": {},
   "outputs": [
    {
     "name": "stderr",
     "output_type": "stream",
     "text": [
      "/home/ec2-user/anaconda3/envs/amazonei_tensorflow_p36/lib/python3.6/site-packages/pandas/core/strings.py:1952: UserWarning: This pattern has match groups. To actually get the groups, use str.extract.\n",
      "  return func(self, *args, **kwargs)\n"
     ]
    }
   ],
   "source": [
    "airbnb_df.loc[airbnb_df['amenities'].str.contains('24-hour check-in'), 'check_in_24h'] = 1\n",
    "airbnb_df.loc[airbnb_df['amenities'].str.contains('Air conditioning|Central air conditioning'), 'air_conditioning'] = 1\n",
    "airbnb_df.loc[airbnb_df['amenities'].str.contains('Amazon Echo|Apple TV|Game console|Netflix|Projector and screen|Smart TV'), 'high_end_electronics'] = 1\n",
    "airbnb_df.loc[airbnb_df['amenities'].str.contains('BBQ grill|Fire pit|Propane barbeque'), 'bbq'] = 1\n",
    "airbnb_df.loc[airbnb_df['amenities'].str.contains('Balcony|Patio'), 'balcony'] = 1\n",
    "airbnb_df.loc[airbnb_df['amenities'].str.contains('Beach view|Beachfront|Lake access|Mountain view|Ski-in/Ski-out|Waterfront'), 'nature_and_views'] = 1\n",
    "airbnb_df.loc[airbnb_df['amenities'].str.contains('Bed linens'), 'bed_linen'] = 1\n",
    "airbnb_df.loc[airbnb_df['amenities'].str.contains('Breakfast'), 'breakfast'] = 1\n",
    "airbnb_df.loc[airbnb_df['amenities'].str.contains('TV'), 'tv'] = 1\n",
    "airbnb_df.loc[airbnb_df['amenities'].str.contains('Coffee maker|Espresso machine'), 'coffee_machine'] = 1\n",
    "airbnb_df.loc[airbnb_df['amenities'].str.contains('Cooking basics'), 'cooking_basics'] = 1\n",
    "airbnb_df.loc[airbnb_df['amenities'].str.contains('Dishwasher|Dryer|Washer'), 'white_goods'] = 1\n",
    "airbnb_df.loc[airbnb_df['amenities'].str.contains('Elevator'), 'elevator'] = 1\n",
    "airbnb_df.loc[airbnb_df['amenities'].str.contains('Exercise equipment|Gym|gym'), 'gym'] = 1\n",
    "airbnb_df.loc[airbnb_df['amenities'].str.contains('Family/kid friendly|Children|children'), 'child_friendly'] = 1\n",
    "airbnb_df.loc[airbnb_df['amenities'].str.contains('parking'), 'parking'] = 1\n",
    "airbnb_df.loc[airbnb_df['amenities'].str.contains('Garden|Outdoor|Sun loungers|Terrace'), 'outdoor_space'] = 1\n",
    "airbnb_df.loc[airbnb_df['amenities'].str.contains('Host greets you'), 'host_greeting'] = 1\n",
    "airbnb_df.loc[airbnb_df['amenities'].str.contains('Hot tub|Jetted tub|hot tub|Sauna|Pool|pool'), 'hot_tub_sauna_or_pool'] = 1\n",
    "airbnb_df.loc[airbnb_df['amenities'].str.contains('Internet|Pocket wifi|Wifi'), 'internet'] = 1\n",
    "airbnb_df.loc[airbnb_df['amenities'].str.contains('Long term stays allowed'), 'long_term_stays'] = 1\n",
    "airbnb_df.loc[airbnb_df['amenities'].str.contains('Pets|pet|Cat(s)|Dog(s)'), 'pets_allowed'] = 1\n",
    "airbnb_df.loc[airbnb_df['amenities'].str.contains('Private entrance'), 'private_entrance'] = 1\n",
    "airbnb_df.loc[airbnb_df['amenities'].str.contains('Safe|Security system'), 'secure'] = 1\n",
    "airbnb_df.loc[airbnb_df['amenities'].str.contains('Self check-in'), 'self_check_in'] = 1\n",
    "airbnb_df.loc[airbnb_df['amenities'].str.contains('Smoking allowed'), 'smoking_allowed'] = 1\n",
    "airbnb_df.loc[airbnb_df['amenities'].str.contains('Step-free access|Wheelchair|Accessible'), 'accessible'] = 1\n",
    "airbnb_df.loc[airbnb_df['amenities'].str.contains('Suitable for events'), 'event_suitable'] = 1"
   ]
  },
  {
   "cell_type": "markdown",
   "metadata": {},
   "source": [
    "price is handled by removing currency sign"
   ]
  },
  {
   "cell_type": "code",
   "execution_count": 31,
   "metadata": {
    "scrolled": true
   },
   "outputs": [],
   "source": [
    "airbnb_df.price = airbnb_df.price.str[1:-3]\n",
    "airbnb_df.price = airbnb_df.price.str.replace(\",\", \"\")\n",
    "airbnb_df.price = airbnb_df.price.astype('int64')"
   ]
  },
  {
   "cell_type": "markdown",
   "metadata": {},
   "source": [
    "security deposit , cleaning fees and extra people null values are handled by using 0"
   ]
  },
  {
   "cell_type": "code",
   "execution_count": 32,
   "metadata": {},
   "outputs": [],
   "source": [
    "airbnb_df.security_deposit = airbnb_df.security_deposit.str[1:-3]\n",
    "airbnb_df.security_deposit = airbnb_df.security_deposit.str.replace(\",\", \"\")\n",
    "airbnb_df.security_deposit.fillna(0, inplace=True)\n",
    "airbnb_df.security_deposit = airbnb_df.security_deposit.astype('int64')"
   ]
  },
  {
   "cell_type": "code",
   "execution_count": 33,
   "metadata": {},
   "outputs": [],
   "source": [
    "airbnb_df.cleaning_fee = airbnb_df.cleaning_fee.str[1:-3]\n",
    "airbnb_df.cleaning_fee = airbnb_df.cleaning_fee.str.replace(\",\", \"\")\n",
    "airbnb_df.cleaning_fee.fillna(0, inplace=True)\n",
    "airbnb_df.cleaning_fee = airbnb_df.cleaning_fee.astype('int64')"
   ]
  },
  {
   "cell_type": "code",
   "execution_count": 34,
   "metadata": {},
   "outputs": [],
   "source": [
    "airbnb_df.extra_people = airbnb_df.extra_people.str[1:-3]\n",
    "airbnb_df.extra_people = airbnb_df.extra_people.str.replace(\",\", \"\")\n",
    "airbnb_df.extra_people.fillna(0, inplace=True)\n",
    "airbnb_df.extra_people = airbnb_df.extra_people.astype('int64')"
   ]
  },
  {
   "cell_type": "markdown",
   "metadata": {},
   "source": [
    "# EDA on Reviews"
   ]
  },
  {
   "cell_type": "code",
   "execution_count": 35,
   "metadata": {},
   "outputs": [],
   "source": [
    "def bin_column(col, bins, labels, na_label='unknown'):\n",
    "    airbnb_df[col] = pd.cut(airbnb_df[col], bins=bins, labels=labels, include_lowest=True)\n",
    "    airbnb_df[col] = airbnb_df[col].astype('str')\n",
    "    airbnb_df[col].fillna(na_label, inplace=True)"
   ]
  },
  {
   "cell_type": "code",
   "execution_count": 36,
   "metadata": {},
   "outputs": [],
   "source": [
    "airbnb_df.drop('last_review', axis=1, inplace=True)"
   ]
  },
  {
   "cell_type": "code",
   "execution_count": 37,
   "metadata": {},
   "outputs": [
    {
     "data": {
      "image/png": "[encoded data removed]",
      "text/plain": [
       "<Figure size 1152x720 with 6 Axes>"
      ]
     },
     "metadata": {
      "needs_background": "light"
     },
     "output_type": "display_data"
    }
   ],
   "source": [
    "# Checking the distributions of the review ratings columns\n",
    "variables_to_plot = [\n",
    " 'review_scores_accuracy',\n",
    " 'review_scores_cleanliness',\n",
    " 'review_scores_checkin',\n",
    " 'review_scores_communication',\n",
    " 'review_scores_location',\n",
    " 'review_scores_value']\n",
    "\n",
    "fig = plt.figure(figsize=(16,10))\n",
    "for i, var_name in enumerate(variables_to_plot):\n",
    "    ax = fig.add_subplot(4,4,i+1)\n",
    "    airbnb_df[var_name].hist(bins=10,ax=ax)\n",
    "    ax.set_title(var_name)\n",
    "fig.tight_layout()\n",
    "plt.show()"
   ]
  },
  {
   "cell_type": "code",
   "execution_count": 38,
   "metadata": {},
   "outputs": [],
   "source": [
    "# Binning for all columns scored out of 10\n",
    "for col in variables_to_plot:\n",
    "    bin_column(col,\n",
    "               bins=[0, 7, 8, 9, 10],\n",
    "               labels=['0-7','8','9', '10'],\n",
    "               na_label='no reviews')"
   ]
  },
  {
   "cell_type": "code",
   "execution_count": 39,
   "metadata": {},
   "outputs": [],
   "source": [
    "# Binning column scored out of 100\n",
    "bin_column('review_scores_rating',\n",
    "           bins=[0, 50, 80, 95, 100],\n",
    "           labels=['0-49','50-79', '80-94', '95-100'],\n",
    "           na_label='no reviews')"
   ]
  },
  {
   "cell_type": "markdown",
   "metadata": {},
   "source": [
    "Replace cancellation policy with strict 14 with grace period and moderate"
   ]
  },
  {
   "cell_type": "code",
   "execution_count": 40,
   "metadata": {},
   "outputs": [
    {
     "data": {
      "text/plain": [
       "flexible                       9602\n",
       "strict_14_with_grace_period    7359\n",
       "moderate                       7308\n",
       "super_strict_30                  76\n",
       "super_strict_60                  75\n",
       "strict                            2\n",
       "Name: cancellation_policy, dtype: int64"
      ]
     },
     "execution_count": 40,
     "metadata": {},
     "output_type": "execute_result"
    }
   ],
   "source": [
    "airbnb_df.cancellation_policy.value_counts()"
   ]
  },
  {
   "cell_type": "code",
   "execution_count": 41,
   "metadata": {},
   "outputs": [],
   "source": [
    "# Replacing categories\n",
    "airbnb_df.cancellation_policy.replace({\n",
    "    'super_strict_30': 'strict_14_with_grace_period',\n",
    "    'super_strict_60': 'strict_14_with_grace_period',\n",
    "    'strict': 'strict_14_with_grace_period',\n",
    "    'luxury_moderate': 'moderate'\n",
    "    }, inplace=True)"
   ]
  },
  {
   "cell_type": "markdown",
   "metadata": {},
   "source": [
    "removing columns which will be correlated with number_of_reviews and so will be dropped."
   ]
  },
  {
   "cell_type": "code",
   "execution_count": 42,
   "metadata": {},
   "outputs": [],
   "source": [
    "airbnb_df.drop(['number_of_reviews_ltm', 'reviews_per_month'], axis=1, inplace=True)"
   ]
  },
  {
   "cell_type": "markdown",
   "metadata": {},
   "source": [
    "# Exploratory data analysis"
   ]
  },
  {
   "cell_type": "markdown",
   "metadata": {},
   "source": [
    "# Yearly rise in number of listings per host"
   ]
  },
  {
   "cell_type": "code",
   "execution_count": 43,
   "metadata": {},
   "outputs": [
    {
     "name": "stderr",
     "output_type": "stream",
     "text": [
      "/home/ec2-user/anaconda3/envs/amazonei_tensorflow_p36/lib/python3.6/site-packages/pandas/core/series.py:679: RuntimeWarning: divide by zero encountered in log\n",
      "  result = getattr(ufunc, method)(*inputs, **kwargs)\n"
     ]
    },
    {
     "data": {
      "image/png": "[encoded data removed]",
      "text/plain": [
       "<Figure size 1368x576 with 1 Axes>"
      ]
     },
     "metadata": {
      "needs_background": "light"
     },
     "output_type": "display_data"
    }
   ],
   "source": [
    "plt.figure(figsize=(19,8))\n",
    "sns.boxplot(airbnb_df.host_since.dt.year, np.log(airbnb_df.host_listings_count))\n",
    "plt.xlabel('Host joining Year', fontsize=12)\n",
    "plt.ylabel('log-Number of listings per host', fontsize=12)\n",
    "plt.title('Yearly rise in number of listings per host', fontsize=16)\n",
    "plt.show()"
   ]
  },
  {
   "cell_type": "markdown",
   "metadata": {},
   "source": [
    "# Yearly rise in Advertised Price for Airbnb listings"
   ]
  },
  {
   "cell_type": "code",
   "execution_count": 44,
   "metadata": {},
   "outputs": [],
   "source": [
    "airbnb_df.first_review = pd.to_datetime(airbnb_df.first_review)"
   ]
  },
  {
   "cell_type": "code",
   "execution_count": 45,
   "metadata": {},
   "outputs": [
    {
     "name": "stderr",
     "output_type": "stream",
     "text": [
      "/home/ec2-user/anaconda3/envs/amazonei_tensorflow_p36/lib/python3.6/site-packages/pandas/core/series.py:679: RuntimeWarning: divide by zero encountered in log\n",
      "  result = getattr(ufunc, method)(*inputs, **kwargs)\n"
     ]
    },
    {
     "data": {
      "image/png": "[encoded data removed]",
      "text/plain": [
       "<Figure size 1152x432 with 1 Axes>"
      ]
     },
     "metadata": {
      "needs_background": "light"
     },
     "output_type": "display_data"
    }
   ],
   "source": [
    "plt.figure(figsize=(16,6))\n",
    "sns.boxplot(airbnb_df.first_review.dt.year, np.log(airbnb_df.price))\n",
    "plt.xlabel('Year of first review', fontsize=12)\n",
    "plt.ylabel('log-price', fontsize=12)\n",
    "plt.title('Yearly rise in price of Airbnb listings', fontsize=16)\n",
    "plt.show()"
   ]
  },
  {
   "cell_type": "code",
   "execution_count": 46,
   "metadata": {},
   "outputs": [],
   "source": [
    "# Dropping host_since and first_review as they are no longer needed\n",
    "airbnb_df.drop(['host_since', 'first_review'], axis=1, inplace=True)"
   ]
  },
  {
   "cell_type": "code",
   "execution_count": 47,
   "metadata": {},
   "outputs": [
    {
     "name": "stdout",
     "output_type": "stream",
     "text": [
      "advertised prices range from 0 to 8983.\n"
     ]
    }
   ],
   "source": [
    "print(f\"advertised prices range from {min(airbnb_df.price)} to {max(airbnb_df.price)}.\")"
   ]
  },
  {
   "cell_type": "code",
   "execution_count": 64,
   "metadata": {},
   "outputs": [
    {
     "data": {
      "image/png": "[encoded data removed]",
      "text/plain": [
       "<Figure size 1440x288 with 1 Axes>"
      ]
     },
     "metadata": {
      "needs_background": "light"
     },
     "output_type": "display_data"
    }
   ],
   "source": [
    "plt.figure(figsize=(20,4))\n",
    "airbnb_df.price.hist(bins=2000, range = (0,5000))\n",
    "plt.margins(x=0)\n",
    "plt.axvline(200, color='green', linestyle='--')\n",
    "plt.axvline(500, color='blue', linestyle='--')\n",
    "plt.axvline(1000, color='black', linestyle='--')\n",
    "plt.axvline(2000, color='red', linestyle='--')\n",
    "plt.title(\"Price Distribution of Airbnb listings\", fontsize=16)\n",
    "plt.xlabel(\"Price\")\n",
    "plt.ylabel(\"Number of listings\")\n",
    "plt.show()"
   ]
  },
  {
   "cell_type": "markdown",
   "metadata": {},
   "source": [
    "**Host listings count**"
   ]
  },
  {
   "cell_type": "code",
   "execution_count": 49,
   "metadata": {
    "scrolled": true
   },
   "outputs": [
    {
     "name": "stdout",
     "output_type": "stream",
     "text": [
      "Median number of listings per host: 1\n",
      "Mean number of listings per host: 3\n",
      "65% of listings are from hosts with one listing.\n"
     ]
    }
   ],
   "source": [
    "print(\"Median number of listings per host:\", int(airbnb_df.host_listings_count.median()))\n",
    "print(\"Mean number of listings per host:\", int(round(airbnb_df.host_listings_count.mean())))\n",
    "print(f\"{int(round(100*len(airbnb_df[airbnb_df.host_listings_count == 1])/len(airbnb_df)))}% of listings are from hosts with one listing.\")"
   ]
  },
  {
   "cell_type": "markdown",
   "metadata": {},
   "source": [
    "**Number of people accommodated, bathrooms, bedrooms and beds**"
   ]
  },
  {
   "cell_type": "code",
   "execution_count": 50,
   "metadata": {},
   "outputs": [
    {
     "data": {
      "image/png": "[encoded data removed]",
      "text/plain": [
       "<Figure size 720x360 with 1 Axes>"
      ]
     },
     "metadata": {
      "needs_background": "light"
     },
     "output_type": "display_data"
    }
   ],
   "source": [
    "plt.figure(figsize=(10,5))\n",
    "airbnb_df.groupby('accommodates').price.median().plot(kind='bar')\n",
    "plt.title('Median price of Airbnbs accommodating different number of guests', fontsize=14)\n",
    "plt.xlabel('Number of guests accommodated', fontsize=13)\n",
    "plt.ylabel('Median price (£)', fontsize=13)\n",
    "plt.xticks(rotation=0)\n",
    "plt.xlim(left=0.5)\n",
    "plt.show()"
   ]
  },
  {
   "cell_type": "code",
   "execution_count": 51,
   "metadata": {},
   "outputs": [
    {
     "data": {
      "image/png": "[encoded data removed]",
      "text/plain": [
       "<Figure size 576x432 with 4 Axes>"
      ]
     },
     "metadata": {
      "needs_background": "light"
     },
     "output_type": "display_data"
    }
   ],
   "source": [
    "airbnb_df[['accommodates', 'bathrooms', 'bedrooms', 'beds']].hist(figsize=(8,6));"
   ]
  },
  {
   "cell_type": "markdown",
   "metadata": {},
   "source": [
    "### Categorical features"
   ]
  },
  {
   "cell_type": "markdown",
   "metadata": {},
   "source": [
    "Categorical features will be explored and plotted, to gain insights and to determine whether or not they should be included in the final model."
   ]
  },
  {
   "cell_type": "markdown",
   "metadata": {},
   "source": [
    "**Neighbourhood**"
   ]
  },
  {
   "cell_type": "markdown",
   "metadata": {},
   "source": [
    "*Question: which areas have the most Airbnb properties, and which are the most expensive?* "
   ]
  },
  {
   "cell_type": "code",
   "execution_count": 52,
   "metadata": {},
   "outputs": [
    {
     "data": {
      "text/html": [
       "<div>\n",
       "<style scoped>\n",
       "    .dataframe tbody tr th:only-of-type {\n",
       "        vertical-align: middle;\n",
       "    }\n",
       "\n",
       "    .dataframe tbody tr th {\n",
       "        vertical-align: top;\n",
       "    }\n",
       "\n",
       "    .dataframe thead th {\n",
       "        text-align: right;\n",
       "    }\n",
       "</style>\n",
       "<table border=\"1\" class=\"dataframe\">\n",
       "  <thead>\n",
       "    <tr style=\"text-align: right;\">\n",
       "      <th></th>\n",
       "      <th>neighbourhood</th>\n",
       "      <th>neighbourhood_group</th>\n",
       "      <th>geometry</th>\n",
       "    </tr>\n",
       "  </thead>\n",
       "  <tbody>\n",
       "    <tr>\n",
       "      <th>0</th>\n",
       "      <td>Kingston upon Thames</td>\n",
       "      <td>None</td>\n",
       "      <td>MULTIPOLYGON (((-0.33068 51.32901, -0.33059 51...</td>\n",
       "    </tr>\n",
       "    <tr>\n",
       "      <th>1</th>\n",
       "      <td>Croydon</td>\n",
       "      <td>None</td>\n",
       "      <td>MULTIPOLYGON (((-0.06402 51.31864, -0.06407 51...</td>\n",
       "    </tr>\n",
       "    <tr>\n",
       "      <th>2</th>\n",
       "      <td>Bromley</td>\n",
       "      <td>None</td>\n",
       "      <td>MULTIPOLYGON (((0.01213 51.29960, 0.01196 51.2...</td>\n",
       "    </tr>\n",
       "    <tr>\n",
       "      <th>3</th>\n",
       "      <td>Hounslow</td>\n",
       "      <td>None</td>\n",
       "      <td>MULTIPOLYGON (((-0.24456 51.48870, -0.24468 51...</td>\n",
       "    </tr>\n",
       "    <tr>\n",
       "      <th>4</th>\n",
       "      <td>Ealing</td>\n",
       "      <td>None</td>\n",
       "      <td>MULTIPOLYGON (((-0.41183 51.53408, -0.41188 51...</td>\n",
       "    </tr>\n",
       "  </tbody>\n",
       "</table>\n",
       "</div>"
      ],
      "text/plain": [
       "          neighbourhood neighbourhood_group  \\\n",
       "0  Kingston upon Thames                None   \n",
       "1               Croydon                None   \n",
       "2               Bromley                None   \n",
       "3              Hounslow                None   \n",
       "4                Ealing                None   \n",
       "\n",
       "                                            geometry  \n",
       "0  MULTIPOLYGON (((-0.33068 51.32901, -0.33059 51...  \n",
       "1  MULTIPOLYGON (((-0.06402 51.31864, -0.06407 51...  \n",
       "2  MULTIPOLYGON (((0.01213 51.29960, 0.01196 51.2...  \n",
       "3  MULTIPOLYGON (((-0.24456 51.48870, -0.24468 51...  \n",
       "4  MULTIPOLYGON (((-0.41183 51.53408, -0.41188 51...  "
      ]
     },
     "execution_count": 52,
     "metadata": {},
     "output_type": "execute_result"
    }
   ],
   "source": [
    "# Renaming the neighbourhood column\n",
    "airbnb_df.rename(columns={'neighbourhood_cleansed': 'borough'}, inplace=True)\n",
    "\n",
    "# Importing the London borough boundary GeoJSON file as a dataframe in geopandas\n",
    "map_df = gpd.read_file('london_neighbourhoods.geojson')\n",
    "map_df.head()"
   ]
  },
  {
   "cell_type": "code",
   "execution_count": 53,
   "metadata": {
    "scrolled": true
   },
   "outputs": [],
   "source": [
    "# Dropping the empty column\n",
    "map_df.drop('neighbourhood_group', axis=1, inplace=True)\n",
    "\n",
    "# Creating a dataframe of listing counts and median price by borough\n",
    "borough_df = pd.DataFrame(airbnb_df.groupby('borough').size())\n",
    "borough_df.rename(columns={0: 'number_of_listings'}, inplace=True)\n",
    "borough_df['median_price'] = airbnb_df.groupby('borough').price.median().values\n",
    "\n",
    "# Joining the dataframes\n",
    "borough_map_df = map_df.set_index('neighbourhood').join(borough_df)"
   ]
  },
  {
   "cell_type": "code",
   "execution_count": 54,
   "metadata": {
    "scrolled": true
   },
   "outputs": [
    {
     "data": {
      "image/png": "[encoded data removed]",
      "text/plain": [
       "<Figure size 1080x432 with 2 Axes>"
      ]
     },
     "metadata": {
      "needs_background": "light"
     },
     "output_type": "display_data"
    },
    {
     "data": {
      "image/png": "[encoded data removed]",
      "text/plain": [
       "<Figure size 1080x432 with 2 Axes>"
      ]
     },
     "metadata": {
      "needs_background": "light"
     },
     "output_type": "display_data"
    }
   ],
   "source": [
    "# Plotting the number of listings in each borough\n",
    "fig1, ax1 = plt.subplots(1, figsize=(15, 6))\n",
    "borough_map_df.plot(column='number_of_listings', cmap='Reds', ax=ax1)\n",
    "ax1.axis('off')\n",
    "ax1.set_title('Number of Airbnb listings in each neighborhood', fontsize=14)\n",
    "sm = plt.cm.ScalarMappable(cmap='Reds', norm=plt.Normalize(vmin=0, vmax=9000))\n",
    "sm._A = [] # Creates an empty array for the data range\n",
    "cbar = fig1.colorbar(sm)\n",
    "plt.show()\n",
    "\n",
    "# Plotting the median price of listings in each borough\n",
    "fig2, ax2 = plt.subplots(1, figsize=(15, 6))\n",
    "borough_map_df.plot(column='median_price', cmap='Reds', ax=ax2)\n",
    "ax2.axis('off')\n",
    "ax2.set_title('Median price of Airbnb listings in each neighborhood', fontsize=14)\n",
    "sm = plt.cm.ScalarMappable(cmap='Reds', norm=plt.Normalize(vmin=min(borough_map_df.median_price), vmax=max(borough_map_df.median_price)))\n",
    "sm._A = [] # Creates an empty array for the data range\n",
    "cbar = fig2.colorbar(sm)\n",
    "plt.show()"
   ]
  },
  {
   "cell_type": "markdown",
   "metadata": {},
   "source": [
    "**Property and room types**"
   ]
  },
  {
   "cell_type": "markdown",
   "metadata": {},
   "source": [
    "*Question: what are the most common property and room types?*"
   ]
  },
  {
   "cell_type": "code",
   "execution_count": 55,
   "metadata": {
    "scrolled": true
   },
   "outputs": [],
   "source": [
    "def category_count_plot(col, figsize=(8,4)):\n",
    "    plt.figure(figsize=figsize)\n",
    "    airbnb_df[col].value_counts().plot(kind='bar')\n",
    "    plt.title(col)\n",
    "    plt.xticks(rotation=0)\n",
    "    plt.show()"
   ]
  },
  {
   "cell_type": "code",
   "execution_count": 56,
   "metadata": {
    "scrolled": false
   },
   "outputs": [
    {
     "data": {
      "image/png": "[encoded data removed]",
      "text/plain": [
       "<Figure size 288x216 with 1 Axes>"
      ]
     },
     "metadata": {
      "needs_background": "light"
     },
     "output_type": "display_data"
    },
    {
     "name": "stdout",
     "output_type": "stream",
     "text": [
      "Apartment    0.945254\n",
      "House        0.027557\n",
      "Other        0.019900\n",
      "Hotel        0.007289\n",
      "Name: property_type, dtype: float64\n"
     ]
    },
    {
     "data": {
      "image/png": "[encoded data removed]",
      "text/plain": [
       "<Figure size 288x216 with 1 Axes>"
      ]
     },
     "metadata": {
      "needs_background": "light"
     },
     "output_type": "display_data"
    },
    {
     "name": "stdout",
     "output_type": "stream",
     "text": [
      "Entire home/apt    0.500369\n",
      "Private room       0.475227\n",
      "Hotel room         0.012407\n",
      "Shared room        0.011997\n",
      "Name: room_type, dtype: float64\n"
     ]
    }
   ],
   "source": [
    "for col in ['property_type', 'room_type']:\n",
    "    category_count_plot(col, figsize=(4,3))\n",
    "    print(airbnb_df[col].value_counts(normalize=True))"
   ]
  },
  {
   "cell_type": "markdown",
   "metadata": {},
   "source": [
    "**Reviews**"
   ]
  },
  {
   "cell_type": "markdown",
   "metadata": {},
   "source": [
    "*Question: what is the distribution of reviews like?*"
   ]
  },
  {
   "cell_type": "code",
   "execution_count": 57,
   "metadata": {},
   "outputs": [
    {
     "data": {
      "image/png": "[encoded data removed]",
      "text/plain": [
       "<Figure size 576x360 with 1 Axes>"
      ]
     },
     "metadata": {
      "needs_background": "light"
     },
     "output_type": "display_data"
    }
   ],
   "source": [
    "fig, ax = plt.subplots(1, 1, figsize=(8,5))\n",
    "ax.set_title('listing rating', fontsize=14)\n",
    "airbnb_df['review_scores_rating'].value_counts().sort_index(ascending=False).plot(kind='bar', ax=ax)\n",
    "ax.set_xticklabels(labels=['no reviews','0-79','80-94','95-100'])\n",
    "ax.set_xlabel('')\n",
    "ax.set_ylabel('Number of rentals', fontsize=13)\n",
    "plt.show()"
   ]
  },
  {
   "cell_type": "code",
   "execution_count": 58,
   "metadata": {
    "scrolled": false
   },
   "outputs": [
    {
     "data": {
      "image/png": "[encoded data removed]",
      "text/plain": [
       "<Figure size 360x216 with 1 Axes>"
      ]
     },
     "metadata": {
      "needs_background": "light"
     },
     "output_type": "display_data"
    },
    {
     "data": {
      "image/png": "[encoded data removed]",
      "text/plain": [
       "<Figure size 360x216 with 1 Axes>"
      ]
     },
     "metadata": {
      "needs_background": "light"
     },
     "output_type": "display_data"
    },
    {
     "data": {
      "image/png": "[encoded data removed]",
      "text/plain": [
       "<Figure size 360x216 with 1 Axes>"
      ]
     },
     "metadata": {
      "needs_background": "light"
     },
     "output_type": "display_data"
    },
    {
     "data": {
      "image/png": "[encoded data removed]",
      "text/plain": [
       "<Figure size 360x216 with 1 Axes>"
      ]
     },
     "metadata": {
      "needs_background": "light"
     },
     "output_type": "display_data"
    },
    {
     "data": {
      "image/png": "[encoded data removed]",
      "text/plain": [
       "<Figure size 360x216 with 1 Axes>"
      ]
     },
     "metadata": {
      "needs_background": "light"
     },
     "output_type": "display_data"
    },
    {
     "data": {
      "image/png": "[encoded data removed]",
      "text/plain": [
       "<Figure size 360x216 with 1 Axes>"
      ]
     },
     "metadata": {
      "needs_background": "light"
     },
     "output_type": "display_data"
    },
    {
     "data": {
      "image/png": "[encoded data removed]",
      "text/plain": [
       "<Figure size 360x216 with 1 Axes>"
      ]
     },
     "metadata": {
      "needs_background": "light"
     },
     "output_type": "display_data"
    }
   ],
   "source": [
    "for col in list(airbnb_df.columns[airbnb_df.columns.str.startswith(\"review_scores\") == True]):\n",
    "    category_count_plot(col, figsize=(5,3))"
   ]
  },
  {
   "cell_type": "markdown",
   "metadata": {},
   "source": [
    "### Boolean  features"
   ]
  },
  {
   "cell_type": "code",
   "execution_count": 59,
   "metadata": {},
   "outputs": [],
   "source": [
    "def binary_count_and_price_plot(col, figsize=(10,6)):\n",
    "    fig, (ax1, ax2) = plt.subplots(1, 2, figsize=figsize)\n",
    "    fig.suptitle(col, fontsize=12, y=1)\n",
    "    \n",
    "    airbnb_df.groupby(col).size().plot(kind='bar', ax=ax1)\n",
    "    ax1.set_xticklabels(labels=['false', 'true'], rotation=0)\n",
    "    ax1.set_title('Category count')\n",
    "    ax1.set_xlabel('')\n",
    "    \n",
    "    airbnb_df.groupby(col).price.median().plot(kind='bar', ax=ax2)\n",
    "    ax2.set_xticklabels(labels=['false', 'true'], rotation=0)\n",
    "    ax2.set_title('Median price')\n",
    "    ax2.set_xlabel('')\n",
    "    \n",
    "    plt.show()"
   ]
  },
  {
   "cell_type": "markdown",
   "metadata": {},
   "source": [
    "**Superhosts**"
   ]
  },
  {
   "cell_type": "markdown",
   "metadata": {},
   "source": [
    "*Question: what proportion of Airbnb hosts are superhosts, and is it worth being one? (a question often asked by hosts)*"
   ]
  },
  {
   "cell_type": "code",
   "execution_count": 60,
   "metadata": {
    "scrolled": true
   },
   "outputs": [
    {
     "data": {
      "image/png": "[encoded data removed]",
      "text/plain": [
       "<Figure size 720x432 with 2 Axes>"
      ]
     },
     "metadata": {
      "needs_background": "light"
     },
     "output_type": "display_data"
    }
   ],
   "source": [
    "binary_count_and_price_plot('host_is_superhost')"
   ]
  },
  {
   "cell_type": "code",
   "execution_count": 61,
   "metadata": {
    "scrolled": false
   },
   "outputs": [
    {
     "data": {
      "image/png": "[encoded data removed]",
      "text/plain": [
       "<Figure size 576x144 with 2 Axes>"
      ]
     },
     "metadata": {
      "needs_background": "light"
     },
     "output_type": "display_data"
    },
    {
     "data": {
      "image/png": "[encoded data removed]",
      "text/plain": [
       "<Figure size 576x144 with 2 Axes>"
      ]
     },
     "metadata": {
      "needs_background": "light"
     },
     "output_type": "display_data"
    },
    {
     "data": {
      "image/png": "[encoded data removed]",
      "text/plain": [
       "<Figure size 576x144 with 2 Axes>"
      ]
     },
     "metadata": {
      "needs_background": "light"
     },
     "output_type": "display_data"
    },
    {
     "data": {
      "image/png": "[encoded data removed]",
      "text/plain": [
       "<Figure size 576x144 with 2 Axes>"
      ]
     },
     "metadata": {
      "needs_background": "light"
     },
     "output_type": "display_data"
    },
    {
     "data": {
      "image/png": "[encoded data removed]",
      "text/plain": [
       "<Figure size 576x144 with 2 Axes>"
      ]
     },
     "metadata": {
      "needs_background": "light"
     },
     "output_type": "display_data"
    },
    {
     "data": {
      "image/png": "[encoded data removed]",
      "text/plain": [
       "<Figure size 576x144 with 2 Axes>"
      ]
     },
     "metadata": {
      "needs_background": "light"
     },
     "output_type": "display_data"
    },
    {
     "data": {
      "image/png": "[encoded data removed]",
      "text/plain": [
       "<Figure size 576x144 with 2 Axes>"
      ]
     },
     "metadata": {
      "needs_background": "light"
     },
     "output_type": "display_data"
    },
    {
     "data": {
      "image/png": "[encoded data removed]",
      "text/plain": [
       "<Figure size 576x144 with 2 Axes>"
      ]
     },
     "metadata": {
      "needs_background": "light"
     },
     "output_type": "display_data"
    },
    {
     "data": {
      "image/png": "[encoded data removed]",
      "text/plain": [
       "<Figure size 576x144 with 2 Axes>"
      ]
     },
     "metadata": {
      "needs_background": "light"
     },
     "output_type": "display_data"
    },
    {
     "data": {
      "image/png": "[encoded data removed]",
      "text/plain": [
       "<Figure size 576x144 with 2 Axes>"
      ]
     },
     "metadata": {
      "needs_background": "light"
     },
     "output_type": "display_data"
    },
    {
     "data": {
      "image/png": "[encoded data removed]",
      "text/plain": [
       "<Figure size 576x144 with 2 Axes>"
      ]
     },
     "metadata": {
      "needs_background": "light"
     },
     "output_type": "display_data"
    },
    {
     "data": {
      "image/png": "[encoded data removed]",
      "text/plain": [
       "<Figure size 576x144 with 2 Axes>"
      ]
     },
     "metadata": {
      "needs_background": "light"
     },
     "output_type": "display_data"
    },
    {
     "data": {
      "image/png": "[encoded data removed]",
      "text/plain": [
       "<Figure size 576x144 with 2 Axes>"
      ]
     },
     "metadata": {
      "needs_background": "light"
     },
     "output_type": "display_data"
    },
    {
     "data": {
      "image/png": "[encoded data removed]",
      "text/plain": [
       "<Figure size 576x144 with 2 Axes>"
      ]
     },
     "metadata": {
      "needs_background": "light"
     },
     "output_type": "display_data"
    },
    {
     "data": {
      "image/png": "[encoded data removed]",
      "text/plain": [
       "<Figure size 576x144 with 2 Axes>"
      ]
     },
     "metadata": {
      "needs_background": "light"
     },
     "output_type": "display_data"
    },
    {
     "data": {
      "image/png": "[encoded data removed]",
      "text/plain": [
       "<Figure size 576x144 with 2 Axes>"
      ]
     },
     "metadata": {
      "needs_background": "light"
     },
     "output_type": "display_data"
    },
    {
     "data": {
      "image/png": "[encoded data removed]",
      "text/plain": [
       "<Figure size 576x144 with 2 Axes>"
      ]
     },
     "metadata": {
      "needs_background": "light"
     },
     "output_type": "display_data"
    },
    {
     "data": {
      "image/png": "[encoded data removed]",
      "text/plain": [
       "<Figure size 576x144 with 2 Axes>"
      ]
     },
     "metadata": {
      "needs_background": "light"
     },
     "output_type": "display_data"
    },
    {
     "data": {
      "image/png": "[encoded data removed]",
      "text/plain": [
       "<Figure size 576x144 with 2 Axes>"
      ]
     },
     "metadata": {
      "needs_background": "light"
     },
     "output_type": "display_data"
    },
    {
     "data": {
      "image/png": "[encoded data removed]",
      "text/plain": [
       "<Figure size 576x144 with 2 Axes>"
      ]
     },
     "metadata": {
      "needs_background": "light"
     },
     "output_type": "display_data"
    },
    {
     "data": {
      "image/png": "[encoded data removed]",
      "text/plain": [
       "<Figure size 576x144 with 2 Axes>"
      ]
     },
     "metadata": {
      "needs_background": "light"
     },
     "output_type": "display_data"
    },
    {
     "data": {
      "image/png": "[encoded data removed]",
      "text/plain": [
       "<Figure size 576x144 with 2 Axes>"
      ]
     },
     "metadata": {
      "needs_background": "light"
     },
     "output_type": "display_data"
    },
    {
     "data": {
      "image/png": "[encoded data removed]",
      "text/plain": [
       "<Figure size 576x144 with 2 Axes>"
      ]
     },
     "metadata": {
      "needs_background": "light"
     },
     "output_type": "display_data"
    },
    {
     "data": {
      "image/png": "[encoded data removed]",
      "text/plain": [
       "<Figure size 576x144 with 2 Axes>"
      ]
     },
     "metadata": {
      "needs_background": "light"
     },
     "output_type": "display_data"
    },
    {
     "data": {
      "image/png": "[encoded data removed]",
      "text/plain": [
       "<Figure size 576x144 with 2 Axes>"
      ]
     },
     "metadata": {
      "needs_background": "light"
     },
     "output_type": "display_data"
    },
    {
     "data": {
      "image/png": "[encoded data removed]",
      "text/plain": [
       "<Figure size 576x144 with 2 Axes>"
      ]
     },
     "metadata": {
      "needs_background": "light"
     },
     "output_type": "display_data"
    },
    {
     "data": {
      "image/png": "[encoded data removed]",
      "text/plain": [
       "<Figure size 576x144 with 2 Axes>"
      ]
     },
     "metadata": {
      "needs_background": "light"
     },
     "output_type": "display_data"
    },
    {
     "data": {
      "image/png": "[encoded data removed]",
      "text/plain": [
       "<Figure size 576x144 with 2 Axes>"
      ]
     },
     "metadata": {
      "needs_background": "light"
     },
     "output_type": "display_data"
    },
    {
     "data": {
      "image/png": "[encoded data removed]",
      "text/plain": [
       "<Figure size 576x144 with 2 Axes>"
      ]
     },
     "metadata": {
      "needs_background": "light"
     },
     "output_type": "display_data"
    },
    {
     "data": {
      "image/png": "[encoded data removed]",
      "text/plain": [
       "<Figure size 576x144 with 2 Axes>"
      ]
     },
     "metadata": {
      "needs_background": "light"
     },
     "output_type": "display_data"
    }
   ],
   "source": [
    "for col in airbnb_df.iloc[:,37:-1].columns:\n",
    "    binary_count_and_price_plot(col, figsize=(8,2))"
   ]
  },
  {
   "cell_type": "code",
   "execution_count": 62,
   "metadata": {},
   "outputs": [],
   "source": [
    "airbnb_df.to_csv(\"paris_cleaned_v2.csv.gz\", index=False)"
   ]
  }
 ],
 "metadata": {
  "kernelspec": {
   "display_name": "conda_amazonei_tensorflow_p36",
   "language": "python",
   "name": "conda_amazonei_tensorflow_p36"
  },
  "language_info": {
   "codemirror_mode": {
    "name": "ipython",
    "version": 3
   },
   "file_extension": ".py",
   "mimetype": "text/x-python",
   "name": "python",
   "nbconvert_exporter": "python",
   "pygments_lexer": "ipython3",
   "version": "3.6.10"
  }
 },
 "nbformat": 4,
 "nbformat_minor": 2
}
